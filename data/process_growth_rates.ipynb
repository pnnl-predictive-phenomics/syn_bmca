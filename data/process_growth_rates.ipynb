{
 "cells": [
  {
   "cell_type": "code",
   "execution_count": 27,
   "id": "initial_id",
   "metadata": {
    "collapsed": true,
    "ExecuteTime": {
     "end_time": "2024-03-19T19:24:19.260360Z",
     "start_time": "2024-03-19T19:24:19.254072Z"
    }
   },
   "outputs": [],
   "source": [
    "import pandas as pd\n",
    "import seaborn as sns\n",
    "import matplotlib.pyplot as plt"
   ]
  },
  {
   "cell_type": "code",
   "outputs": [],
   "source": [
    "axenic = pd.read_excel('raw_data/cell_density_wt_axenic.xlsx', engine='openpyxl',\n",
    "                       sheet_name='axenic')\n",
    "ox_stress_wt = pd.read_excel('raw_data/cell_density_wt_axenic.xlsx', engine='openpyxl',\n",
    "                       sheet_name='ox_stress_wt')\n",
    "ox_stress_key = pd.read_excel('raw_data/cell_density_wt_axenic.xlsx', engine='openpyxl',\n",
    "                       sheet_name='ox_stress_key')"
   ],
   "metadata": {
    "collapsed": false,
    "ExecuteTime": {
     "end_time": "2024-03-19T19:17:12.428507Z",
     "start_time": "2024-03-19T19:17:12.071540Z"
    }
   },
   "id": "dd955f58dadef94a",
   "execution_count": 2
  },
  {
   "cell_type": "code",
   "outputs": [],
   "source": [
    "crit = (ox_stress_wt['DO2 % of Air Saturation'] == 0)\n",
    "ox_stress_wt_base = ox_stress_wt.loc[crit]['Average Growth Rate, hr-1']"
   ],
   "metadata": {
    "collapsed": false,
    "ExecuteTime": {
     "end_time": "2024-03-19T19:24:41.364724Z",
     "start_time": "2024-03-19T19:24:41.346724Z"
    }
   },
   "id": "22320d1fe8ede427",
   "execution_count": 29
  },
  {
   "cell_type": "code",
   "outputs": [],
   "source": [
    "growth_rate_ox_stress = ox_stress_wt['Average Growth Rate, hr-1']"
   ],
   "metadata": {
    "collapsed": false,
    "ExecuteTime": {
     "end_time": "2024-03-19T19:21:12.194259Z",
     "start_time": "2024-03-19T19:21:12.188660Z"
    }
   },
   "id": "7fba5cc9bf3f76bf",
   "execution_count": 17
  },
  {
   "cell_type": "code",
   "outputs": [
    {
     "data": {
      "text/plain": "       Long Name Short meaningful name       Sampling date  BC Time, hr  \\\n0    ELO081723.1              WT100.0A 2023-08-29 17:05:00       293.31   \n1    ELO081723.1              WT100.0B 2023-08-29 17:05:00       293.31   \n2    ELO081723.2              WT205.0A 2023-09-02 15:55:00       388.20   \n3    ELO081723.2              WT205.0B 2023-09-02 15:55:00       388.20   \n4    ELO081723.3              WT205.5A 2023-09-05 15:15:00       459.46   \n5    ELO081723.3              WT205.5B 2023-09-05 15:15:00       459.46   \n6    ELO081723.4             WT205.10A 2023-09-08 14:20:00       530.55   \n7    ELO081723.4             WT205.10B 2023-09-08 14:20:00       530.55   \n8    ELO081723.5             WT205.20A 2023-09-15 15:20:00       699.56   \n9    ELO081723.5             WT205.20B 2023-09-15 15:20:00       699.56   \n10   ELO081723.6             WT205.30A 2023-09-18 16:00:00       772.18   \n11   ELO081723.6             WT205.30B 2023-09-18 16:00:00       772.18   \n12   ELO081723.7             WT205.40A 2023-09-21 16:40:00       844.87   \n13   ELO081723.7             WT205.40B 2023-09-21 16:40:00       844.87   \n14   ELO081723.8             WT205.50A 2023-09-25 13:50:00       938.04   \n15   ELO081723.8             WT205.50B 2023-09-25 13:50:00       938.04   \n16   ELO081723.9             WT205.60A 2023-10-03 09:30:00      1125.89   \n17   ELO081723.9             WT205.60B 2023-10-03 09:30:00      1125.89   \n18  ELO081723.10             WT205.70A 2023-10-08 15:10:00      1251.38   \n19  ELO081723.10             WT205.70B 2023-10-08 15:10:00      1251.38   \n20  ELO081723.11             WT205.80A 2023-10-11 12:05:00      1320.28   \n21  ELO081723.11             WT205.80B 2023-10-11 12:05:00      1320.28   \n\n    DOT % of Air Sat.  Air or O2 L/min  N2 L/min  CO2 L/min   Light  \\\n0               3.624              0.0       2.0       0.04   50:50   \n1               3.624              0.0       2.0       0.04   50:50   \n2               4.600              0.0       2.0       0.04  140:65   \n3               4.600              0.0       2.0       0.04  140:65   \n4              30.118              0.5       1.5       0.04  140:65   \n5              30.118              0.5       1.5       0.04  140:65   \n6              54.180              0.2       1.8       0.04  140:65   \n7              54.180              0.2       1.8       0.04  140:65   \n8              94.420              0.4       1.6       0.04  140:65   \n9              94.420              0.4       1.6       0.04  140:65   \n10            129.560              0.6       1.4       0.04  140:65   \n11            129.560              0.6       1.4       0.04  140:65   \n12            165.000              0.8       1.2       0.04  140:65   \n13            165.000              0.8       1.2       0.04  140:65   \n14            197.200              1.0       1.0       0.04  140:65   \n15            197.200              1.0       1.0       0.04  140:65   \n16            223.100              1.2       0.8       0.04  140:65   \n17            223.100              1.2       0.8       0.04  140:65   \n18            244.400              1.4       0.6       0.04  140:65   \n19            244.400              1.4       0.6       0.04  140:65   \n20            265.140              1.6       0.4       0.04  140:65   \n21            265.140              1.6       0.4       0.04  140:65   \n\n    Oxygen. %  Supplied dO2 of air saturation, %  \n0    0.000000                           0.000000  \n1    0.000000                           0.000000  \n2    0.000000                           0.000000  \n3    0.000000                           0.000000  \n4    0.049020                          23.401732  \n5    0.049020                          23.401732  \n6    0.098039                          46.803464  \n7    0.098039                          46.803464  \n8    0.196078                          93.606928  \n9    0.196078                          93.606928  \n10   0.294118                         140.410391  \n11   0.294118                         140.410391  \n12   0.392157                         187.213855  \n13   0.392157                         187.213855  \n14   0.490196                         234.017319  \n15   0.490196                         234.017319  \n16   0.588235                         280.820783  \n17   0.588235                         280.820783  \n18   0.686275                         327.624247  \n19   0.686275                         327.624247  \n20   0.784314                         374.427711  \n21   0.784314                         374.427711  ",
      "text/html": "<div>\n<style scoped>\n    .dataframe tbody tr th:only-of-type {\n        vertical-align: middle;\n    }\n\n    .dataframe tbody tr th {\n        vertical-align: top;\n    }\n\n    .dataframe thead th {\n        text-align: right;\n    }\n</style>\n<table border=\"1\" class=\"dataframe\">\n  <thead>\n    <tr style=\"text-align: right;\">\n      <th></th>\n      <th>Long Name</th>\n      <th>Short meaningful name</th>\n      <th>Sampling date</th>\n      <th>BC Time, hr</th>\n      <th>DOT % of Air Sat.</th>\n      <th>Air or O2 L/min</th>\n      <th>N2 L/min</th>\n      <th>CO2 L/min</th>\n      <th>Light</th>\n      <th>Oxygen. %</th>\n      <th>Supplied dO2 of air saturation, %</th>\n    </tr>\n  </thead>\n  <tbody>\n    <tr>\n      <th>0</th>\n      <td>ELO081723.1</td>\n      <td>WT100.0A</td>\n      <td>2023-08-29 17:05:00</td>\n      <td>293.31</td>\n      <td>3.624</td>\n      <td>0.0</td>\n      <td>2.0</td>\n      <td>0.04</td>\n      <td>50:50</td>\n      <td>0.000000</td>\n      <td>0.000000</td>\n    </tr>\n    <tr>\n      <th>1</th>\n      <td>ELO081723.1</td>\n      <td>WT100.0B</td>\n      <td>2023-08-29 17:05:00</td>\n      <td>293.31</td>\n      <td>3.624</td>\n      <td>0.0</td>\n      <td>2.0</td>\n      <td>0.04</td>\n      <td>50:50</td>\n      <td>0.000000</td>\n      <td>0.000000</td>\n    </tr>\n    <tr>\n      <th>2</th>\n      <td>ELO081723.2</td>\n      <td>WT205.0A</td>\n      <td>2023-09-02 15:55:00</td>\n      <td>388.20</td>\n      <td>4.600</td>\n      <td>0.0</td>\n      <td>2.0</td>\n      <td>0.04</td>\n      <td>140:65</td>\n      <td>0.000000</td>\n      <td>0.000000</td>\n    </tr>\n    <tr>\n      <th>3</th>\n      <td>ELO081723.2</td>\n      <td>WT205.0B</td>\n      <td>2023-09-02 15:55:00</td>\n      <td>388.20</td>\n      <td>4.600</td>\n      <td>0.0</td>\n      <td>2.0</td>\n      <td>0.04</td>\n      <td>140:65</td>\n      <td>0.000000</td>\n      <td>0.000000</td>\n    </tr>\n    <tr>\n      <th>4</th>\n      <td>ELO081723.3</td>\n      <td>WT205.5A</td>\n      <td>2023-09-05 15:15:00</td>\n      <td>459.46</td>\n      <td>30.118</td>\n      <td>0.5</td>\n      <td>1.5</td>\n      <td>0.04</td>\n      <td>140:65</td>\n      <td>0.049020</td>\n      <td>23.401732</td>\n    </tr>\n    <tr>\n      <th>5</th>\n      <td>ELO081723.3</td>\n      <td>WT205.5B</td>\n      <td>2023-09-05 15:15:00</td>\n      <td>459.46</td>\n      <td>30.118</td>\n      <td>0.5</td>\n      <td>1.5</td>\n      <td>0.04</td>\n      <td>140:65</td>\n      <td>0.049020</td>\n      <td>23.401732</td>\n    </tr>\n    <tr>\n      <th>6</th>\n      <td>ELO081723.4</td>\n      <td>WT205.10A</td>\n      <td>2023-09-08 14:20:00</td>\n      <td>530.55</td>\n      <td>54.180</td>\n      <td>0.2</td>\n      <td>1.8</td>\n      <td>0.04</td>\n      <td>140:65</td>\n      <td>0.098039</td>\n      <td>46.803464</td>\n    </tr>\n    <tr>\n      <th>7</th>\n      <td>ELO081723.4</td>\n      <td>WT205.10B</td>\n      <td>2023-09-08 14:20:00</td>\n      <td>530.55</td>\n      <td>54.180</td>\n      <td>0.2</td>\n      <td>1.8</td>\n      <td>0.04</td>\n      <td>140:65</td>\n      <td>0.098039</td>\n      <td>46.803464</td>\n    </tr>\n    <tr>\n      <th>8</th>\n      <td>ELO081723.5</td>\n      <td>WT205.20A</td>\n      <td>2023-09-15 15:20:00</td>\n      <td>699.56</td>\n      <td>94.420</td>\n      <td>0.4</td>\n      <td>1.6</td>\n      <td>0.04</td>\n      <td>140:65</td>\n      <td>0.196078</td>\n      <td>93.606928</td>\n    </tr>\n    <tr>\n      <th>9</th>\n      <td>ELO081723.5</td>\n      <td>WT205.20B</td>\n      <td>2023-09-15 15:20:00</td>\n      <td>699.56</td>\n      <td>94.420</td>\n      <td>0.4</td>\n      <td>1.6</td>\n      <td>0.04</td>\n      <td>140:65</td>\n      <td>0.196078</td>\n      <td>93.606928</td>\n    </tr>\n    <tr>\n      <th>10</th>\n      <td>ELO081723.6</td>\n      <td>WT205.30A</td>\n      <td>2023-09-18 16:00:00</td>\n      <td>772.18</td>\n      <td>129.560</td>\n      <td>0.6</td>\n      <td>1.4</td>\n      <td>0.04</td>\n      <td>140:65</td>\n      <td>0.294118</td>\n      <td>140.410391</td>\n    </tr>\n    <tr>\n      <th>11</th>\n      <td>ELO081723.6</td>\n      <td>WT205.30B</td>\n      <td>2023-09-18 16:00:00</td>\n      <td>772.18</td>\n      <td>129.560</td>\n      <td>0.6</td>\n      <td>1.4</td>\n      <td>0.04</td>\n      <td>140:65</td>\n      <td>0.294118</td>\n      <td>140.410391</td>\n    </tr>\n    <tr>\n      <th>12</th>\n      <td>ELO081723.7</td>\n      <td>WT205.40A</td>\n      <td>2023-09-21 16:40:00</td>\n      <td>844.87</td>\n      <td>165.000</td>\n      <td>0.8</td>\n      <td>1.2</td>\n      <td>0.04</td>\n      <td>140:65</td>\n      <td>0.392157</td>\n      <td>187.213855</td>\n    </tr>\n    <tr>\n      <th>13</th>\n      <td>ELO081723.7</td>\n      <td>WT205.40B</td>\n      <td>2023-09-21 16:40:00</td>\n      <td>844.87</td>\n      <td>165.000</td>\n      <td>0.8</td>\n      <td>1.2</td>\n      <td>0.04</td>\n      <td>140:65</td>\n      <td>0.392157</td>\n      <td>187.213855</td>\n    </tr>\n    <tr>\n      <th>14</th>\n      <td>ELO081723.8</td>\n      <td>WT205.50A</td>\n      <td>2023-09-25 13:50:00</td>\n      <td>938.04</td>\n      <td>197.200</td>\n      <td>1.0</td>\n      <td>1.0</td>\n      <td>0.04</td>\n      <td>140:65</td>\n      <td>0.490196</td>\n      <td>234.017319</td>\n    </tr>\n    <tr>\n      <th>15</th>\n      <td>ELO081723.8</td>\n      <td>WT205.50B</td>\n      <td>2023-09-25 13:50:00</td>\n      <td>938.04</td>\n      <td>197.200</td>\n      <td>1.0</td>\n      <td>1.0</td>\n      <td>0.04</td>\n      <td>140:65</td>\n      <td>0.490196</td>\n      <td>234.017319</td>\n    </tr>\n    <tr>\n      <th>16</th>\n      <td>ELO081723.9</td>\n      <td>WT205.60A</td>\n      <td>2023-10-03 09:30:00</td>\n      <td>1125.89</td>\n      <td>223.100</td>\n      <td>1.2</td>\n      <td>0.8</td>\n      <td>0.04</td>\n      <td>140:65</td>\n      <td>0.588235</td>\n      <td>280.820783</td>\n    </tr>\n    <tr>\n      <th>17</th>\n      <td>ELO081723.9</td>\n      <td>WT205.60B</td>\n      <td>2023-10-03 09:30:00</td>\n      <td>1125.89</td>\n      <td>223.100</td>\n      <td>1.2</td>\n      <td>0.8</td>\n      <td>0.04</td>\n      <td>140:65</td>\n      <td>0.588235</td>\n      <td>280.820783</td>\n    </tr>\n    <tr>\n      <th>18</th>\n      <td>ELO081723.10</td>\n      <td>WT205.70A</td>\n      <td>2023-10-08 15:10:00</td>\n      <td>1251.38</td>\n      <td>244.400</td>\n      <td>1.4</td>\n      <td>0.6</td>\n      <td>0.04</td>\n      <td>140:65</td>\n      <td>0.686275</td>\n      <td>327.624247</td>\n    </tr>\n    <tr>\n      <th>19</th>\n      <td>ELO081723.10</td>\n      <td>WT205.70B</td>\n      <td>2023-10-08 15:10:00</td>\n      <td>1251.38</td>\n      <td>244.400</td>\n      <td>1.4</td>\n      <td>0.6</td>\n      <td>0.04</td>\n      <td>140:65</td>\n      <td>0.686275</td>\n      <td>327.624247</td>\n    </tr>\n    <tr>\n      <th>20</th>\n      <td>ELO081723.11</td>\n      <td>WT205.80A</td>\n      <td>2023-10-11 12:05:00</td>\n      <td>1320.28</td>\n      <td>265.140</td>\n      <td>1.6</td>\n      <td>0.4</td>\n      <td>0.04</td>\n      <td>140:65</td>\n      <td>0.784314</td>\n      <td>374.427711</td>\n    </tr>\n    <tr>\n      <th>21</th>\n      <td>ELO081723.11</td>\n      <td>WT205.80B</td>\n      <td>2023-10-11 12:05:00</td>\n      <td>1320.28</td>\n      <td>265.140</td>\n      <td>1.6</td>\n      <td>0.4</td>\n      <td>0.04</td>\n      <td>140:65</td>\n      <td>0.784314</td>\n      <td>374.427711</td>\n    </tr>\n  </tbody>\n</table>\n</div>"
     },
     "execution_count": 30,
     "metadata": {},
     "output_type": "execute_result"
    }
   ],
   "source": [
    "ox_stress_key"
   ],
   "metadata": {
    "collapsed": false,
    "ExecuteTime": {
     "end_time": "2024-03-19T19:24:43.333476Z",
     "start_time": "2024-03-19T19:24:43.304958Z"
    }
   },
   "id": "6c08a46b252a530",
   "execution_count": 30
  },
  {
   "cell_type": "code",
   "outputs": [
    {
     "data": {
      "text/plain": "   S.e mixed axenic  Hour of cultivation  change in cells/ml  \\\n0          0.047900                  0.0            0.005767   \n1          0.053667                 34.0            0.624367   \n2          0.678033                 58.0            0.366533   \n3          1.044567                 78.0            0.082867   \n4          1.127433                101.0            0.034000   \n\n   change in hours from last timepoint  d (cells/ml) / d(hours)  \n0                                 34.0                 0.000170  \n1                                 24.0                 0.026015  \n2                                 20.0                 0.018327  \n3                                 23.0                 0.003603  \n4                                 29.5                 0.001153  ",
      "text/html": "<div>\n<style scoped>\n    .dataframe tbody tr th:only-of-type {\n        vertical-align: middle;\n    }\n\n    .dataframe tbody tr th {\n        vertical-align: top;\n    }\n\n    .dataframe thead th {\n        text-align: right;\n    }\n</style>\n<table border=\"1\" class=\"dataframe\">\n  <thead>\n    <tr style=\"text-align: right;\">\n      <th></th>\n      <th>S.e mixed axenic</th>\n      <th>Hour of cultivation</th>\n      <th>change in cells/ml</th>\n      <th>change in hours from last timepoint</th>\n      <th>d (cells/ml) / d(hours)</th>\n    </tr>\n  </thead>\n  <tbody>\n    <tr>\n      <th>0</th>\n      <td>0.047900</td>\n      <td>0.0</td>\n      <td>0.005767</td>\n      <td>34.0</td>\n      <td>0.000170</td>\n    </tr>\n    <tr>\n      <th>1</th>\n      <td>0.053667</td>\n      <td>34.0</td>\n      <td>0.624367</td>\n      <td>24.0</td>\n      <td>0.026015</td>\n    </tr>\n    <tr>\n      <th>2</th>\n      <td>0.678033</td>\n      <td>58.0</td>\n      <td>0.366533</td>\n      <td>20.0</td>\n      <td>0.018327</td>\n    </tr>\n    <tr>\n      <th>3</th>\n      <td>1.044567</td>\n      <td>78.0</td>\n      <td>0.082867</td>\n      <td>23.0</td>\n      <td>0.003603</td>\n    </tr>\n    <tr>\n      <th>4</th>\n      <td>1.127433</td>\n      <td>101.0</td>\n      <td>0.034000</td>\n      <td>29.5</td>\n      <td>0.001153</td>\n    </tr>\n  </tbody>\n</table>\n</div>"
     },
     "execution_count": 14,
     "metadata": {},
     "output_type": "execute_result"
    }
   ],
   "source": [
    "axenic.head()"
   ],
   "metadata": {
    "collapsed": false,
    "ExecuteTime": {
     "end_time": "2024-03-19T19:20:14.114516Z",
     "start_time": "2024-03-19T19:20:14.095688Z"
    }
   },
   "id": "28b50b03f53e2309",
   "execution_count": 14
  },
  {
   "cell_type": "code",
   "outputs": [],
   "source": [
    "growth_rate = axenic['d (cells/ml) / d(hours)']\n",
    "growth_rate.plot(kind='hist')\n",
    "growth_rate_ox_stress.plot(kind='hist')"
   ],
   "metadata": {
    "collapsed": false
   },
   "id": "71bf0698d78419d1",
   "execution_count": null
  },
  {
   "cell_type": "code",
   "outputs": [
    {
     "data": {
      "text/plain": "0.1148484047894031"
     },
     "execution_count": 32,
     "metadata": {},
     "output_type": "execute_result"
    }
   ],
   "source": [
    "ox_stress_wt_base[0]"
   ],
   "metadata": {
    "collapsed": false,
    "ExecuteTime": {
     "end_time": "2024-03-19T19:24:50.722470Z",
     "start_time": "2024-03-19T19:24:50.707796Z"
    }
   },
   "id": "a6fab4b02662d1",
   "execution_count": 32
  },
  {
   "cell_type": "code",
   "outputs": [
    {
     "data": {
      "text/plain": "Text(0.1148484047894031, 2, 'WT')"
     },
     "execution_count": 35,
     "metadata": {},
     "output_type": "execute_result"
    },
    {
     "data": {
      "text/plain": "<Figure size 640x480 with 1 Axes>",
      "image/png": "[encoded data removed]"
     },
     "metadata": {},
     "output_type": "display_data"
    }
   ],
   "source": [
    "sns.histplot(x=growth_rate)\n",
    "# sns.histplot(x=growth_rate_ox_stress)\n",
    "# sns.histplot(x=ox_stress_wt_base)\n",
    "plt.axvline(ox_stress_wt_base[0])\n",
    "plt.text(x=ox_stress_wt_base[0], y=2, s='WT')"
   ],
   "metadata": {
    "collapsed": false,
    "ExecuteTime": {
     "end_time": "2024-03-19T19:25:48.894897Z",
     "start_time": "2024-03-19T19:25:48.688810Z"
    }
   },
   "id": "7856aed86fb07b50",
   "execution_count": 35
  }
 ],
 "metadata": {
  "kernelspec": {
   "display_name": "Python 3",
   "language": "python",
   "name": "python3"
  },
  "language_info": {
   "codemirror_mode": {
    "name": "ipython",
    "version": 2
   },
   "file_extension": ".py",
   "mimetype": "text/x-python",
   "name": "python",
   "nbconvert_exporter": "python",
   "pygments_lexer": "ipython2",
   "version": "2.7.6"
  }
 },
 "nbformat": 4,
 "nbformat_minor": 5
}
