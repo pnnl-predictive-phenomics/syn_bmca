{
 "cells": [
  {
   "cell_type": "markdown",
   "metadata": {},
   "source": [
    "# Eflux2 applied to *S. elongatus*"
   ]
  },
  {
   "cell_type": "code",
   "execution_count": 1,
   "metadata": {},
   "outputs": [],
   "source": [
    "import sys\n",
    "sys.path.append('../src')\n",
    "sys.path.append('/Users/mahs128/Repos/CONCERTO')\n",
    "from concerto.helpers.load_model_from_git import load_model_from_git\n",
    "from eflux2 import EFlux2\n",
    "import cobra\n",
    "import pandas as pd\n",
    "import numpy as np\n",
    "import gurobipy"
   ]
  },
  {
   "cell_type": "markdown",
   "metadata": {},
   "source": [
    "## Load in inputs"
   ]
  },
  {
   "cell_type": "markdown",
   "metadata": {},
   "source": [
    "### Read in transcriptomics data"
   ]
  },
  {
   "cell_type": "code",
   "execution_count": 2,
   "metadata": {},
   "outputs": [
    {
     "data": {
      "text/html": [
       "<div>\n",
       "<style scoped>\n",
       "    .dataframe tbody tr th:only-of-type {\n",
       "        vertical-align: middle;\n",
       "    }\n",
       "\n",
       "    .dataframe tbody tr th {\n",
       "        vertical-align: top;\n",
       "    }\n",
       "\n",
       "    .dataframe thead th {\n",
       "        text-align: right;\n",
       "    }\n",
       "</style>\n",
       "<table border=\"1\" class=\"dataframe\">\n",
       "  <thead>\n",
       "    <tr style=\"text-align: right;\">\n",
       "      <th></th>\n",
       "      <th>Se_axen_d4_1</th>\n",
       "      <th>Se_axen_d4_2</th>\n",
       "      <th>Se_axen_d4_3</th>\n",
       "      <th>Se_axen_d6_1</th>\n",
       "      <th>Se_axen_d6_2</th>\n",
       "      <th>Se_axen_d6_3</th>\n",
       "      <th>Se_axen_d8_1</th>\n",
       "      <th>Se_axen_d8_2</th>\n",
       "      <th>Se_axen_d8_3</th>\n",
       "    </tr>\n",
       "    <tr>\n",
       "      <th>Label</th>\n",
       "      <th></th>\n",
       "      <th></th>\n",
       "      <th></th>\n",
       "      <th></th>\n",
       "      <th></th>\n",
       "      <th></th>\n",
       "      <th></th>\n",
       "      <th></th>\n",
       "      <th></th>\n",
       "    </tr>\n",
       "  </thead>\n",
       "  <tbody>\n",
       "    <tr>\n",
       "      <th>SYNPCC7942_RS00005</th>\n",
       "      <td>16290</td>\n",
       "      <td>17761</td>\n",
       "      <td>15101</td>\n",
       "      <td>14567</td>\n",
       "      <td>13967</td>\n",
       "      <td>12653</td>\n",
       "      <td>7016</td>\n",
       "      <td>8855</td>\n",
       "      <td>8689</td>\n",
       "    </tr>\n",
       "    <tr>\n",
       "      <th>SYNPCC7942_RS00010</th>\n",
       "      <td>7185</td>\n",
       "      <td>7502</td>\n",
       "      <td>6565</td>\n",
       "      <td>10086</td>\n",
       "      <td>7546</td>\n",
       "      <td>7705</td>\n",
       "      <td>3747</td>\n",
       "      <td>6670</td>\n",
       "      <td>6960</td>\n",
       "    </tr>\n",
       "    <tr>\n",
       "      <th>SYNPCC7942_RS00015</th>\n",
       "      <td>24176</td>\n",
       "      <td>26304</td>\n",
       "      <td>22781</td>\n",
       "      <td>23926</td>\n",
       "      <td>21306</td>\n",
       "      <td>20412</td>\n",
       "      <td>13440</td>\n",
       "      <td>17253</td>\n",
       "      <td>17053</td>\n",
       "    </tr>\n",
       "    <tr>\n",
       "      <th>SYNPCC7942_RS00020</th>\n",
       "      <td>35119</td>\n",
       "      <td>35145</td>\n",
       "      <td>25895</td>\n",
       "      <td>37701</td>\n",
       "      <td>34175</td>\n",
       "      <td>30569</td>\n",
       "      <td>24835</td>\n",
       "      <td>39769</td>\n",
       "      <td>30280</td>\n",
       "    </tr>\n",
       "    <tr>\n",
       "      <th>SYNPCC7942_RS00025</th>\n",
       "      <td>6891</td>\n",
       "      <td>7803</td>\n",
       "      <td>6607</td>\n",
       "      <td>6347</td>\n",
       "      <td>6284</td>\n",
       "      <td>6844</td>\n",
       "      <td>3326</td>\n",
       "      <td>4146</td>\n",
       "      <td>3180</td>\n",
       "    </tr>\n",
       "  </tbody>\n",
       "</table>\n",
       "</div>"
      ],
      "text/plain": [
       "                    Se_axen_d4_1  Se_axen_d4_2  Se_axen_d4_3  Se_axen_d6_1  \\\n",
       "Label                                                                        \n",
       "SYNPCC7942_RS00005         16290         17761         15101         14567   \n",
       "SYNPCC7942_RS00010          7185          7502          6565         10086   \n",
       "SYNPCC7942_RS00015         24176         26304         22781         23926   \n",
       "SYNPCC7942_RS00020         35119         35145         25895         37701   \n",
       "SYNPCC7942_RS00025          6891          7803          6607          6347   \n",
       "\n",
       "                    Se_axen_d6_2  Se_axen_d6_3  Se_axen_d8_1  Se_axen_d8_2  \\\n",
       "Label                                                                        \n",
       "SYNPCC7942_RS00005         13967         12653          7016          8855   \n",
       "SYNPCC7942_RS00010          7546          7705          3747          6670   \n",
       "SYNPCC7942_RS00015         21306         20412         13440         17253   \n",
       "SYNPCC7942_RS00020         34175         30569         24835         39769   \n",
       "SYNPCC7942_RS00025          6284          6844          3326          4146   \n",
       "\n",
       "                    Se_axen_d8_3  \n",
       "Label                             \n",
       "SYNPCC7942_RS00005          8689  \n",
       "SYNPCC7942_RS00010          6960  \n",
       "SYNPCC7942_RS00015         17053  \n",
       "SYNPCC7942_RS00020         30280  \n",
       "SYNPCC7942_RS00025          3180  "
      ]
     },
     "execution_count": 2,
     "metadata": {},
     "output_type": "execute_result"
    }
   ],
   "source": [
    "transcriptomics_fname = \"processed_data/cleaned_transcriptomics.csv\"\n",
    "transcriptomics_df = pd.read_csv(transcriptomics_fname, index_col=\"Label\")\n",
    "transcriptomics_df.head()"
   ]
  },
  {
   "cell_type": "markdown",
   "metadata": {},
   "source": [
    "### Load SBML model"
   ]
  },
  {
   "cell_type": "code",
   "execution_count": 4,
   "metadata": {},
   "outputs": [
    {
     "name": "stdout",
     "output_type": "stream",
     "text": [
      "Set parameter TokenServer to value \"leghorn.emsl.pnl.gov\"\n"
     ]
    },
    {
     "ename": "CobraSBMLError",
     "evalue": "Something went wrong reading the SBML model. Most likely the SBML model is not valid. Please check that your model is valid using the `cobra.io.sbml.validate_sbml_model` function or via the online validator at https://sbml.org/validator_servlet/ .\n\t`(model, errors) = validate_sbml_model(filename)`\nIf the model is valid and cannot be read please open an issue at https://github.com/opencobra/cobrapy/issues .",
     "output_type": "error",
     "traceback": [
      "\u001b[0;31m---------------------------------------------------------------------------\u001b[0m",
      "\u001b[0;31mGurobiError\u001b[0m                               Traceback (most recent call last)",
      "File \u001b[0;32m~/.pyenv/versions/3.12.1/envs/bmca/lib/python3.12/site-packages/cobra/io/sbml.py:458\u001b[0m, in \u001b[0;36mread_sbml_model\u001b[0;34m(filename, number, f_replace, **kwargs)\u001b[0m\n\u001b[1;32m    457\u001b[0m     doc \u001b[38;5;241m=\u001b[39m _get_doc_from_filename(filename)\n\u001b[0;32m--> 458\u001b[0m     \u001b[38;5;28;01mreturn\u001b[39;00m \u001b[43m_sbml_to_model\u001b[49m\u001b[43m(\u001b[49m\u001b[43mdoc\u001b[49m\u001b[43m,\u001b[49m\u001b[43m \u001b[49m\u001b[43mnumber\u001b[49m\u001b[38;5;241;43m=\u001b[39;49m\u001b[43mnumber\u001b[49m\u001b[43m,\u001b[49m\u001b[43m \u001b[49m\u001b[43mf_replace\u001b[49m\u001b[38;5;241;43m=\u001b[39;49m\u001b[43mf_replace\u001b[49m\u001b[43m,\u001b[49m\u001b[43m \u001b[49m\u001b[38;5;241;43m*\u001b[39;49m\u001b[38;5;241;43m*\u001b[39;49m\u001b[43mkwargs\u001b[49m\u001b[43m)\u001b[49m\n\u001b[1;32m    459\u001b[0m \u001b[38;5;28;01mexcept\u001b[39;00m \u001b[38;5;167;01mIOError\u001b[39;00m \u001b[38;5;28;01mas\u001b[39;00m e:\n",
      "File \u001b[0;32m~/.pyenv/versions/3.12.1/envs/bmca/lib/python3.12/site-packages/cobra/io/sbml.py:592\u001b[0m, in \u001b[0;36m_sbml_to_model\u001b[0;34m(doc, number, f_replace, set_missing_bounds, **kwargs)\u001b[0m\n\u001b[1;32m    591\u001b[0m     LOGGER\u001b[38;5;241m.\u001b[39merror(\u001b[38;5;124mf\u001b[39m\u001b[38;5;124m\"\u001b[39m\u001b[38;5;124m'\u001b[39m\u001b[38;5;132;01m{\u001b[39;00mmodel_id\u001b[38;5;132;01m}\u001b[39;00m\u001b[38;5;124m'\u001b[39m\u001b[38;5;124m is not a valid SBML \u001b[39m\u001b[38;5;124m'\u001b[39m\u001b[38;5;124mSId\u001b[39m\u001b[38;5;124m'\u001b[39m\u001b[38;5;124m.\u001b[39m\u001b[38;5;124m\"\u001b[39m)\n\u001b[0;32m--> 592\u001b[0m cobra_model \u001b[38;5;241m=\u001b[39m \u001b[43mModel\u001b[49m\u001b[43m(\u001b[49m\u001b[43mmodel_id\u001b[49m\u001b[43m)\u001b[49m\n\u001b[1;32m    593\u001b[0m cobra_model\u001b[38;5;241m.\u001b[39mname \u001b[38;5;241m=\u001b[39m model\u001b[38;5;241m.\u001b[39mgetName() \u001b[38;5;129;01mor\u001b[39;00m \u001b[38;5;28;01mNone\u001b[39;00m\n",
      "File \u001b[0;32m~/.pyenv/versions/3.12.1/envs/bmca/lib/python3.12/site-packages/cobra/core/model.py:98\u001b[0m, in \u001b[0;36mModel.__init__\u001b[0;34m(self, id_or_model, name)\u001b[0m\n\u001b[1;32m     97\u001b[0m interface \u001b[38;5;241m=\u001b[39m check_solver(configuration\u001b[38;5;241m.\u001b[39msolver)\n\u001b[0;32m---> 98\u001b[0m \u001b[38;5;28mself\u001b[39m\u001b[38;5;241m.\u001b[39m_solver \u001b[38;5;241m=\u001b[39m \u001b[43minterface\u001b[49m\u001b[38;5;241;43m.\u001b[39;49m\u001b[43mModel\u001b[49m\u001b[43m(\u001b[49m\u001b[43m)\u001b[49m\n\u001b[1;32m     99\u001b[0m \u001b[38;5;28mself\u001b[39m\u001b[38;5;241m.\u001b[39m_solver\u001b[38;5;241m.\u001b[39mobjective \u001b[38;5;241m=\u001b[39m interface\u001b[38;5;241m.\u001b[39mObjective(Zero)\n",
      "File \u001b[0;32m~/.pyenv/versions/3.12.1/envs/bmca/lib/python3.12/site-packages/optlang/interface.py:1190\u001b[0m, in \u001b[0;36mModel.__init__\u001b[0;34m(self, name, objective, variables, constraints, problem, *args, **kwargs)\u001b[0m\n\u001b[1;32m   1189\u001b[0m \u001b[38;5;28;01melse\u001b[39;00m:\n\u001b[0;32m-> 1190\u001b[0m     \u001b[38;5;28;43mself\u001b[39;49m\u001b[38;5;241;43m.\u001b[39;49m\u001b[43m_initialize_problem\u001b[49m\u001b[43m(\u001b[49m\u001b[43m)\u001b[49m\n\u001b[1;32m   1191\u001b[0m     \u001b[38;5;28;01mif\u001b[39;00m variables \u001b[38;5;129;01mis\u001b[39;00m \u001b[38;5;129;01mnot\u001b[39;00m \u001b[38;5;28;01mNone\u001b[39;00m:\n",
      "File \u001b[0;32m~/.pyenv/versions/3.12.1/envs/bmca/lib/python3.12/site-packages/optlang/gurobi_interface.py:531\u001b[0m, in \u001b[0;36mModel._initialize_problem\u001b[0;34m(self)\u001b[0m\n\u001b[1;32m    530\u001b[0m \u001b[38;5;28;01mdef\u001b[39;00m \u001b[38;5;21m_initialize_problem\u001b[39m(\u001b[38;5;28mself\u001b[39m):\n\u001b[0;32m--> 531\u001b[0m     \u001b[38;5;28mself\u001b[39m\u001b[38;5;241m.\u001b[39mproblem \u001b[38;5;241m=\u001b[39m \u001b[43mgurobipy\u001b[49m\u001b[38;5;241;43m.\u001b[39;49m\u001b[43mModel\u001b[49m\u001b[43m(\u001b[49m\u001b[43m)\u001b[49m\n\u001b[1;32m    532\u001b[0m     \u001b[38;5;28mself\u001b[39m\u001b[38;5;241m.\u001b[39mproblem\u001b[38;5;241m.\u001b[39mparams\u001b[38;5;241m.\u001b[39mOutputFlag \u001b[38;5;241m=\u001b[39m \u001b[38;5;241m0\u001b[39m\n",
      "File \u001b[0;32msrc/gurobipy/model.pxi:80\u001b[0m, in \u001b[0;36mgurobipy.Model.__init__\u001b[0;34m()\u001b[0m\n",
      "File \u001b[0;32msrc/gurobipy/gurobi.pxi:60\u001b[0m, in \u001b[0;36mgurobipy.gurobi._getdefaultenv\u001b[0;34m()\u001b[0m\n",
      "File \u001b[0;32msrc/gurobipy/env.pxi:70\u001b[0m, in \u001b[0;36mgurobipy.Env.__init__\u001b[0;34m()\u001b[0m\n",
      "\u001b[0;31mGurobiError\u001b[0m: Request denied: license not valid for Gurobi version 11",
      "\nThe above exception was the direct cause of the following exception:\n",
      "\u001b[0;31mCobraSBMLError\u001b[0m                            Traceback (most recent call last)",
      "Cell \u001b[0;32mIn[4], line 2\u001b[0m\n\u001b[1;32m      1\u001b[0m \u001b[38;5;66;03m# syn_model = load_model_from_git('Synechococcus')\u001b[39;00m\n\u001b[0;32m----> 2\u001b[0m syn_model \u001b[38;5;241m=\u001b[39m \u001b[43mcobra\u001b[49m\u001b[38;5;241;43m.\u001b[39;49m\u001b[43mio\u001b[49m\u001b[38;5;241;43m.\u001b[39;49m\u001b[43mread_sbml_model\u001b[49m\u001b[43m(\u001b[49m\u001b[38;5;124;43m'\u001b[39;49m\u001b[38;5;124;43m/Users/mahs128/Repos/CONCERTO/models/synechococcus_elongatus_pcc_7942/iJB785_w_sucrose_transport.xml\u001b[39;49m\u001b[38;5;124;43m'\u001b[39;49m\u001b[43m)\u001b[49m\n",
      "File \u001b[0;32m~/.pyenv/versions/3.12.1/envs/bmca/lib/python3.12/site-packages/cobra/io/sbml.py:472\u001b[0m, in \u001b[0;36mread_sbml_model\u001b[0;34m(filename, number, f_replace, **kwargs)\u001b[0m\n\u001b[1;32m    462\u001b[0m \u001b[38;5;28;01mexcept\u001b[39;00m \u001b[38;5;167;01mException\u001b[39;00m \u001b[38;5;28;01mas\u001b[39;00m original_error:\n\u001b[1;32m    463\u001b[0m     cobra_error \u001b[38;5;241m=\u001b[39m CobraSBMLError(\n\u001b[1;32m    464\u001b[0m         \u001b[38;5;124m\"\u001b[39m\u001b[38;5;124mSomething went wrong reading the SBML model. Most likely the SBML\u001b[39m\u001b[38;5;124m\"\u001b[39m\n\u001b[1;32m    465\u001b[0m         \u001b[38;5;124m\"\u001b[39m\u001b[38;5;124m model is not valid. Please check that your model is valid using \u001b[39m\u001b[38;5;124m\"\u001b[39m\n\u001b[0;32m   (...)\u001b[0m\n\u001b[1;32m    470\u001b[0m         \u001b[38;5;124m\"\u001b[39m\u001b[38;5;124mat https://github.com/opencobra/cobrapy/issues .\u001b[39m\u001b[38;5;124m\"\u001b[39m\n\u001b[1;32m    471\u001b[0m     )\n\u001b[0;32m--> 472\u001b[0m     \u001b[38;5;28;01mraise\u001b[39;00m cobra_error \u001b[38;5;28;01mfrom\u001b[39;00m \u001b[38;5;21;01moriginal_error\u001b[39;00m\n",
      "\u001b[0;31mCobraSBMLError\u001b[0m: Something went wrong reading the SBML model. Most likely the SBML model is not valid. Please check that your model is valid using the `cobra.io.sbml.validate_sbml_model` function or via the online validator at https://sbml.org/validator_servlet/ .\n\t`(model, errors) = validate_sbml_model(filename)`\nIf the model is valid and cannot be read please open an issue at https://github.com/opencobra/cobrapy/issues ."
     ]
    }
   ],
   "source": [
    "# syn_model = load_model_from_git('Synechococcus')\n",
    "syn_model = cobra.io.validate_\n",
    "('/Users/mahs128/Repos/CONCERTO/models/synechococcus_elongatus_pcc_7942/iJB785_w_sucrose_transport.xml')"
   ]
  },
  {
   "cell_type": "markdown",
   "metadata": {},
   "source": [
    "### Load rates"
   ]
  },
  {
   "cell_type": "code",
   "execution_count": null,
   "metadata": {},
   "outputs": [
    {
     "data": {
      "text/html": [
       "<div>\n",
       "<style scoped>\n",
       "    .dataframe tbody tr th:only-of-type {\n",
       "        vertical-align: middle;\n",
       "    }\n",
       "\n",
       "    .dataframe tbody tr th {\n",
       "        vertical-align: top;\n",
       "    }\n",
       "\n",
       "    .dataframe thead th {\n",
       "        text-align: right;\n",
       "    }\n",
       "</style>\n",
       "<table border=\"1\" class=\"dataframe\">\n",
       "  <thead>\n",
       "    <tr style=\"text-align: right;\">\n",
       "      <th></th>\n",
       "      <th>Se_axen_d4_1</th>\n",
       "      <th>Se_axen_d4_2</th>\n",
       "      <th>Se_axen_d4_3</th>\n",
       "      <th>Se_axen_d6_1</th>\n",
       "      <th>Se_axen_d6_2</th>\n",
       "      <th>Se_axen_d6_3</th>\n",
       "      <th>Se_axen_d8_1</th>\n",
       "      <th>Se_axen_d8_2</th>\n",
       "      <th>Se_axen_d8_3</th>\n",
       "    </tr>\n",
       "    <tr>\n",
       "      <th>Sample</th>\n",
       "      <th></th>\n",
       "      <th></th>\n",
       "      <th></th>\n",
       "      <th></th>\n",
       "      <th></th>\n",
       "      <th></th>\n",
       "      <th></th>\n",
       "      <th></th>\n",
       "      <th></th>\n",
       "    </tr>\n",
       "  </thead>\n",
       "  <tbody>\n",
       "    <tr>\n",
       "      <th>13ppd</th>\n",
       "      <td>-29836.5</td>\n",
       "      <td>-61719.5</td>\n",
       "      <td>12502.0</td>\n",
       "      <td>20379.0</td>\n",
       "      <td>31300.5</td>\n",
       "      <td>-10967.5</td>\n",
       "      <td>3339.0</td>\n",
       "      <td>-34320.5</td>\n",
       "      <td>12960.0</td>\n",
       "    </tr>\n",
       "    <tr>\n",
       "      <th>3hbz</th>\n",
       "      <td>-2978.0</td>\n",
       "      <td>-1145.0</td>\n",
       "      <td>-113.5</td>\n",
       "      <td>571.5</td>\n",
       "      <td>219.0</td>\n",
       "      <td>444.5</td>\n",
       "      <td>-437.0</td>\n",
       "      <td>-1084.5</td>\n",
       "      <td>-930.0</td>\n",
       "    </tr>\n",
       "    <tr>\n",
       "      <th>4hbz</th>\n",
       "      <td>-2529.5</td>\n",
       "      <td>1568.5</td>\n",
       "      <td>-1020.5</td>\n",
       "      <td>1889.5</td>\n",
       "      <td>-1916.0</td>\n",
       "      <td>810.0</td>\n",
       "      <td>-2246.5</td>\n",
       "      <td>818.0</td>\n",
       "      <td>1859.5</td>\n",
       "    </tr>\n",
       "    <tr>\n",
       "      <th>aso4</th>\n",
       "      <td>-4807.5</td>\n",
       "      <td>-3176.0</td>\n",
       "      <td>275.0</td>\n",
       "      <td>-795.0</td>\n",
       "      <td>-1199.0</td>\n",
       "      <td>-3490.0</td>\n",
       "      <td>1443.0</td>\n",
       "      <td>-2645.5</td>\n",
       "      <td>4379.5</td>\n",
       "    </tr>\n",
       "    <tr>\n",
       "      <th>bz</th>\n",
       "      <td>-83691.0</td>\n",
       "      <td>-34668.5</td>\n",
       "      <td>-18102.5</td>\n",
       "      <td>-13110.5</td>\n",
       "      <td>-25685.0</td>\n",
       "      <td>-52963.5</td>\n",
       "      <td>15482.5</td>\n",
       "      <td>-2626.0</td>\n",
       "      <td>21771.0</td>\n",
       "    </tr>\n",
       "  </tbody>\n",
       "</table>\n",
       "</div>"
      ],
      "text/plain": [
       "        Se_axen_d4_1  Se_axen_d4_2  Se_axen_d4_3  Se_axen_d6_1  Se_axen_d6_2  \\\n",
       "Sample                                                                         \n",
       "13ppd       -29836.5      -61719.5       12502.0       20379.0       31300.5   \n",
       "3hbz         -2978.0       -1145.0        -113.5         571.5         219.0   \n",
       "4hbz         -2529.5        1568.5       -1020.5        1889.5       -1916.0   \n",
       "aso4         -4807.5       -3176.0         275.0        -795.0       -1199.0   \n",
       "bz          -83691.0      -34668.5      -18102.5      -13110.5      -25685.0   \n",
       "\n",
       "        Se_axen_d6_3  Se_axen_d8_1  Se_axen_d8_2  Se_axen_d8_3  \n",
       "Sample                                                          \n",
       "13ppd       -10967.5        3339.0      -34320.5       12960.0  \n",
       "3hbz           444.5        -437.0       -1084.5        -930.0  \n",
       "4hbz           810.0       -2246.5         818.0        1859.5  \n",
       "aso4         -3490.0        1443.0       -2645.5        4379.5  \n",
       "bz          -52963.5       15482.5       -2626.0       21771.0  "
      ]
     },
     "execution_count": 4,
     "metadata": {},
     "output_type": "execute_result"
    }
   ],
   "source": [
    "### TODO: MISSING RATES FOR SYN MODEL ###\n",
    "rates_fname = \"processed_data/cleaned_metabolomic_abundance_rates.csv\"\n",
    "rates_df = pd.read_csv(rates_fname, index_col=\"Sample\")\n",
    "rates_df.head()"
   ]
  },
  {
   "cell_type": "markdown",
   "metadata": {},
   "source": [
    "## Normalize relevant data with respect to reference strain/line"
   ]
  },
  {
   "cell_type": "markdown",
   "metadata": {},
   "source": [
    "### Identify reference strain/line"
   ]
  },
  {
   "cell_type": "code",
   "execution_count": 6,
   "metadata": {},
   "outputs": [],
   "source": [
    "ref_rep = transcriptomics_df.columns[4] # 'Se_axen_d6_2'"
   ]
  },
  {
   "cell_type": "markdown",
   "metadata": {},
   "source": [
    "### Normalize transcriptomics data"
   ]
  },
  {
   "cell_type": "code",
   "execution_count": 7,
   "metadata": {},
   "outputs": [
    {
     "data": {
      "text/html": [
       "<div>\n",
       "<style scoped>\n",
       "    .dataframe tbody tr th:only-of-type {\n",
       "        vertical-align: middle;\n",
       "    }\n",
       "\n",
       "    .dataframe tbody tr th {\n",
       "        vertical-align: top;\n",
       "    }\n",
       "\n",
       "    .dataframe thead th {\n",
       "        text-align: right;\n",
       "    }\n",
       "</style>\n",
       "<table border=\"1\" class=\"dataframe\">\n",
       "  <thead>\n",
       "    <tr style=\"text-align: right;\">\n",
       "      <th></th>\n",
       "      <th>Se_axen_d4_1</th>\n",
       "      <th>Se_axen_d4_2</th>\n",
       "      <th>Se_axen_d4_3</th>\n",
       "      <th>Se_axen_d6_1</th>\n",
       "      <th>Se_axen_d6_2</th>\n",
       "      <th>Se_axen_d6_3</th>\n",
       "      <th>Se_axen_d8_1</th>\n",
       "      <th>Se_axen_d8_2</th>\n",
       "      <th>Se_axen_d8_3</th>\n",
       "    </tr>\n",
       "    <tr>\n",
       "      <th>Label</th>\n",
       "      <th></th>\n",
       "      <th></th>\n",
       "      <th></th>\n",
       "      <th></th>\n",
       "      <th></th>\n",
       "      <th></th>\n",
       "      <th></th>\n",
       "      <th></th>\n",
       "      <th></th>\n",
       "    </tr>\n",
       "  </thead>\n",
       "  <tbody>\n",
       "    <tr>\n",
       "      <th>SYNPCC7942_RS00005</th>\n",
       "      <td>1.166321</td>\n",
       "      <td>1.271640</td>\n",
       "      <td>1.081191</td>\n",
       "      <td>1.042958</td>\n",
       "      <td>1.0</td>\n",
       "      <td>0.905921</td>\n",
       "      <td>0.502327</td>\n",
       "      <td>0.633994</td>\n",
       "      <td>0.622109</td>\n",
       "    </tr>\n",
       "    <tr>\n",
       "      <th>SYNPCC7942_RS00010</th>\n",
       "      <td>0.952160</td>\n",
       "      <td>0.994169</td>\n",
       "      <td>0.869997</td>\n",
       "      <td>1.336602</td>\n",
       "      <td>1.0</td>\n",
       "      <td>1.021071</td>\n",
       "      <td>0.496554</td>\n",
       "      <td>0.883912</td>\n",
       "      <td>0.922343</td>\n",
       "    </tr>\n",
       "    <tr>\n",
       "      <th>SYNPCC7942_RS00015</th>\n",
       "      <td>1.134704</td>\n",
       "      <td>1.234582</td>\n",
       "      <td>1.069229</td>\n",
       "      <td>1.122970</td>\n",
       "      <td>1.0</td>\n",
       "      <td>0.958040</td>\n",
       "      <td>0.630808</td>\n",
       "      <td>0.809772</td>\n",
       "      <td>0.800385</td>\n",
       "    </tr>\n",
       "    <tr>\n",
       "      <th>SYNPCC7942_RS00020</th>\n",
       "      <td>1.027623</td>\n",
       "      <td>1.028383</td>\n",
       "      <td>0.757718</td>\n",
       "      <td>1.103175</td>\n",
       "      <td>1.0</td>\n",
       "      <td>0.894484</td>\n",
       "      <td>0.726701</td>\n",
       "      <td>1.163687</td>\n",
       "      <td>0.886028</td>\n",
       "    </tr>\n",
       "    <tr>\n",
       "      <th>SYNPCC7942_RS00025</th>\n",
       "      <td>1.096595</td>\n",
       "      <td>1.241725</td>\n",
       "      <td>1.051400</td>\n",
       "      <td>1.010025</td>\n",
       "      <td>1.0</td>\n",
       "      <td>1.089115</td>\n",
       "      <td>0.529281</td>\n",
       "      <td>0.659771</td>\n",
       "      <td>0.506047</td>\n",
       "    </tr>\n",
       "  </tbody>\n",
       "</table>\n",
       "</div>"
      ],
      "text/plain": [
       "                    Se_axen_d4_1  Se_axen_d4_2  Se_axen_d4_3  Se_axen_d6_1  \\\n",
       "Label                                                                        \n",
       "SYNPCC7942_RS00005      1.166321      1.271640      1.081191      1.042958   \n",
       "SYNPCC7942_RS00010      0.952160      0.994169      0.869997      1.336602   \n",
       "SYNPCC7942_RS00015      1.134704      1.234582      1.069229      1.122970   \n",
       "SYNPCC7942_RS00020      1.027623      1.028383      0.757718      1.103175   \n",
       "SYNPCC7942_RS00025      1.096595      1.241725      1.051400      1.010025   \n",
       "\n",
       "                    Se_axen_d6_2  Se_axen_d6_3  Se_axen_d8_1  Se_axen_d8_2  \\\n",
       "Label                                                                        \n",
       "SYNPCC7942_RS00005           1.0      0.905921      0.502327      0.633994   \n",
       "SYNPCC7942_RS00010           1.0      1.021071      0.496554      0.883912   \n",
       "SYNPCC7942_RS00015           1.0      0.958040      0.630808      0.809772   \n",
       "SYNPCC7942_RS00020           1.0      0.894484      0.726701      1.163687   \n",
       "SYNPCC7942_RS00025           1.0      1.089115      0.529281      0.659771   \n",
       "\n",
       "                    Se_axen_d8_3  \n",
       "Label                             \n",
       "SYNPCC7942_RS00005      0.622109  \n",
       "SYNPCC7942_RS00010      0.922343  \n",
       "SYNPCC7942_RS00015      0.800385  \n",
       "SYNPCC7942_RS00020      0.886028  \n",
       "SYNPCC7942_RS00025      0.506047  "
      ]
     },
     "execution_count": 7,
     "metadata": {},
     "output_type": "execute_result"
    }
   ],
   "source": [
    "normalized_transcriptomics_df = transcriptomics_df.div(transcriptomics_df[ref_rep], axis=0)\n",
    "normalized_transcriptomics_df.head()"
   ]
  },
  {
   "cell_type": "markdown",
   "metadata": {},
   "source": [
    "### Normalize rates data"
   ]
  },
  {
   "cell_type": "code",
   "execution_count": 8,
   "metadata": {},
   "outputs": [
    {
     "ename": "NameError",
     "evalue": "name 'rates_df' is not defined",
     "output_type": "error",
     "traceback": [
      "\u001b[0;31m---------------------------------------------------------------------------\u001b[0m",
      "\u001b[0;31mNameError\u001b[0m                                 Traceback (most recent call last)",
      "Cell \u001b[0;32mIn[8], line 1\u001b[0m\n\u001b[0;32m----> 1\u001b[0m normalized_rates_df \u001b[38;5;241m=\u001b[39m \u001b[43mrates_df\u001b[49m\u001b[38;5;241m.\u001b[39mdiv(rates_df[ref_rep], axis\u001b[38;5;241m=\u001b[39m\u001b[38;5;241m0\u001b[39m)\n\u001b[1;32m      2\u001b[0m display(normalized_rates_df)\n",
      "\u001b[0;31mNameError\u001b[0m: name 'rates_df' is not defined"
     ]
    }
   ],
   "source": [
    "normalized_rates_df = rates_df.div(rates_df[ref_rep], axis=0)\n",
    "display(normalized_rates_df)"
   ]
  },
  {
   "cell_type": "markdown",
   "metadata": {},
   "source": [
    "## Calculate fluxes"
   ]
  },
  {
   "cell_type": "markdown",
   "metadata": {},
   "source": [
    "### Explore candidate uptake reactions\n",
    "\n",
    "#### Exploring Carbon/Biomass\n",
    "This would be a typical approach, but measurements for neither CO2 nor HCO3 are available in the metabolics data. Therefore, we can either (a) ignore uptake reactions and not use them to narrow the bounds for flux calculations, or (b) use growth rates instead\n"
   ]
  },
  {
   "cell_type": "code",
   "execution_count": 9,
   "metadata": {},
   "outputs": [],
   "source": [
    "# # Explore CO2 exchange and transport from external compartment --> periplasm --> cytoplasm\n",
    "\n",
    "# print(\"----\")\n",
    "# print(\"co2_e reactions\")\n",
    "# print(\"----\")\n",
    "# for r in syn_model.metabolites.co2_e.reactions:\n",
    "#     print(r.id)\n",
    "\n",
    "# print(\" \")\n",
    "# print(\"----\")\n",
    "# print(\"co2_p reactions\")\n",
    "# print(\"----\")\n",
    "# for r in syn_model.metabolites.co2_p.reactions:\n",
    "#     print(r.id)\n",
    "\n"
   ]
  },
  {
   "cell_type": "code",
   "execution_count": 10,
   "metadata": {},
   "outputs": [],
   "source": [
    "# display(syn_model.reactions.get_by_id('EX_co2_e'))\n",
    "# display(syn_model.reactions.get_by_id('CO2tex'))\n",
    "# display(syn_model.reactions.get_by_id('CO2tpp')) "
   ]
  },
  {
   "cell_type": "code",
   "execution_count": null,
   "metadata": {},
   "outputs": [],
   "source": []
  },
  {
   "cell_type": "markdown",
   "metadata": {},
   "source": [
    "### Explore candiate secretion reactions\n",
    "\n",
    "#### Exploring Sucrose output"
   ]
  },
  {
   "cell_type": "code",
   "execution_count": 11,
   "metadata": {},
   "outputs": [
    {
     "name": "stdout",
     "output_type": "stream",
     "text": [
      "----\n",
      "sucr_c reactions\n",
      "----\n"
     ]
    },
    {
     "ename": "NameError",
     "evalue": "name 'syn_model' is not defined",
     "output_type": "error",
     "traceback": [
      "\u001b[0;31m---------------------------------------------------------------------------\u001b[0m",
      "\u001b[0;31mNameError\u001b[0m                                 Traceback (most recent call last)",
      "Cell \u001b[0;32mIn[11], line 5\u001b[0m\n\u001b[1;32m      3\u001b[0m \u001b[38;5;28mprint\u001b[39m(\u001b[38;5;124m\"\u001b[39m\u001b[38;5;124msucr_c reactions\u001b[39m\u001b[38;5;124m\"\u001b[39m)\n\u001b[1;32m      4\u001b[0m \u001b[38;5;28mprint\u001b[39m(\u001b[38;5;124m\"\u001b[39m\u001b[38;5;124m----\u001b[39m\u001b[38;5;124m\"\u001b[39m)\n\u001b[0;32m----> 5\u001b[0m \u001b[38;5;28;01mfor\u001b[39;00m r \u001b[38;5;129;01min\u001b[39;00m \u001b[43msyn_model\u001b[49m\u001b[38;5;241m.\u001b[39mmetabolites\u001b[38;5;241m.\u001b[39msucr_c\u001b[38;5;241m.\u001b[39mreactions:\n\u001b[1;32m      6\u001b[0m     \u001b[38;5;28mprint\u001b[39m(r\u001b[38;5;241m.\u001b[39mid)\n\u001b[1;32m      8\u001b[0m \u001b[38;5;28mprint\u001b[39m(\u001b[38;5;124m\"\u001b[39m\u001b[38;5;124m \u001b[39m\u001b[38;5;124m\"\u001b[39m)\n",
      "\u001b[0;31mNameError\u001b[0m: name 'syn_model' is not defined"
     ]
    }
   ],
   "source": [
    "# Explore sucrose exchange and transport from cytoplasm --> external compartment\n",
    "print(\"----\")\n",
    "print(\"sucr_c reactions\")\n",
    "print(\"----\")\n",
    "for r in syn_model.metabolites.sucr_c.reactions:\n",
    "    print(r.id)\n",
    "\n",
    "print(\" \")\n",
    "print(\"----\")\n",
    "print(\"sucr_e reactions\")\n",
    "print(\"----\")\n",
    "for r in syn_model.metabolites.sucr_e.reactions:\n",
    "    print(r.id)"
   ]
  },
  {
   "cell_type": "code",
   "execution_count": 12,
   "metadata": {},
   "outputs": [
    {
     "ename": "NameError",
     "evalue": "name 'syn_model' is not defined",
     "output_type": "error",
     "traceback": [
      "\u001b[0;31m---------------------------------------------------------------------------\u001b[0m",
      "\u001b[0;31mNameError\u001b[0m                                 Traceback (most recent call last)",
      "Cell \u001b[0;32mIn[12], line 1\u001b[0m\n\u001b[0;32m----> 1\u001b[0m display(\u001b[43msyn_model\u001b[49m\u001b[38;5;241m.\u001b[39mreactions\u001b[38;5;241m.\u001b[39mget_by_id(\u001b[38;5;124m'\u001b[39m\u001b[38;5;124mSUCR\u001b[39m\u001b[38;5;124m'\u001b[39m))\n\u001b[1;32m      2\u001b[0m display(syn_model\u001b[38;5;241m.\u001b[39mreactions\u001b[38;5;241m.\u001b[39mget_by_id(\u001b[38;5;124m'\u001b[39m\u001b[38;5;124mSUCRt2\u001b[39m\u001b[38;5;124m'\u001b[39m))\n\u001b[1;32m      3\u001b[0m display(syn_model\u001b[38;5;241m.\u001b[39mreactions\u001b[38;5;241m.\u001b[39mget_by_id(\u001b[38;5;124m'\u001b[39m\u001b[38;5;124mSPP\u001b[39m\u001b[38;5;124m'\u001b[39m))\n",
      "\u001b[0;31mNameError\u001b[0m: name 'syn_model' is not defined"
     ]
    }
   ],
   "source": [
    "display(syn_model.reactions.get_by_id('SUCR'))\n",
    "display(syn_model.reactions.get_by_id('SUCRt2'))\n",
    "display(syn_model.reactions.get_by_id('SPP'))\n",
    "display(syn_model.reactions.get_by_id('EX_sucr_e')) # candidate for secretion target"
   ]
  },
  {
   "cell_type": "code",
   "execution_count": 13,
   "metadata": {},
   "outputs": [
    {
     "ename": "NameError",
     "evalue": "name 'syn_model' is not defined",
     "output_type": "error",
     "traceback": [
      "\u001b[0;31m---------------------------------------------------------------------------\u001b[0m",
      "\u001b[0;31mNameError\u001b[0m                                 Traceback (most recent call last)",
      "Cell \u001b[0;32mIn[13], line 13\u001b[0m\n\u001b[1;32m     10\u001b[0m replicate_list \u001b[38;5;241m=\u001b[39m normalized_transcriptomics_df\u001b[38;5;241m.\u001b[39mcolumns\n\u001b[1;32m     12\u001b[0m \u001b[38;5;66;03m# Use teh Gurobi solver in the model\u001b[39;00m\n\u001b[0;32m---> 13\u001b[0m \u001b[43msyn_model\u001b[49m\u001b[38;5;241m.\u001b[39msolver \u001b[38;5;241m=\u001b[39m \u001b[38;5;124m'\u001b[39m\u001b[38;5;124mgurobi\u001b[39m\u001b[38;5;124m'\u001b[39m\n\u001b[1;32m     15\u001b[0m \u001b[38;5;66;03m# TODO: generalize this as a function with various options for intake candidate availability, or using growth rates instead\u001b[39;00m\n\u001b[1;32m     17\u001b[0m fluxes \u001b[38;5;241m=\u001b[39m {}\n",
      "\u001b[0;31mNameError\u001b[0m: name 'syn_model' is not defined"
     ]
    }
   ],
   "source": [
    "# Identify candiates for target intake metabolite and corresponding reaction\n",
    "intake_target_met = None #\n",
    "# intake_target_rxn = \"\"\n",
    "\n",
    "# Identify candiates for target secretion metabolite and corresponding reaction\n",
    "secrete_target_met = \"sucr\" # BiGG ID for sucrose\n",
    "secrete_target_rxn = 'EX_sucr_e'\n",
    "\n",
    "# List of replicates/strains/lines included in data\n",
    "replicate_list = normalized_transcriptomics_df.columns\n",
    "\n",
    "# Use teh Gurobi solver in the model\n",
    "syn_model.solver = 'gurobi'\n",
    "\n",
    "# TODO: generalize this as a function with various options for intake candidate availability, or using growth rates instead\n",
    "\n",
    "fluxes = {}\n",
    "for rep in replicate_list:\n",
    "    with syn_model:\n",
    "        # Collect rates for this replicate/strain/line\n",
    "\n",
    "        # TODO: condition intake/secrete on if a candidate is chosen\n",
    "        # intake_target = syn_model.reactions.id....[co2_intake] \n",
    "        secrete_target = normalized_rates_df.loc[secrete_target_met, rep]\n",
    "      #  syn_model.reactions.get_by_id(secrete_target_rxn) # secrete_3hp = normalized_line_rates.loc[rep,'3hp_secretion_rates (mmol/gDCW * hr)']\n",
    "       \n",
    "        # Update model reaction bounds with experimentally calculated rate\n",
    "        # if intake_target:\n",
    "        #     getattr(syn_model.reactions, intake_target_rxn).reaction.upper_bound = intake_target\n",
    "        if secrete_target:\n",
    "            getattr(syn_model.reactions, secrete_target_rxn).lower_bound = secrete_target\n",
    "        try:\n",
    "            print(rep)\n",
    "            fluxes[rep] = EFlux2(syn_model, normalized_transcriptomics_df[rep])\n",
    "        except TypeError:\n",
    "            print(f\"Replicate {rep} with uptake of {intake_target_met} and secretion of {secrete_target_met} is infeasible\")\n",
    "fluxes[rep]"
   ]
  },
  {
   "cell_type": "code",
   "execution_count": 78,
   "metadata": {},
   "outputs": [
    {
     "data": {
      "text/plain": [
       "Label\n",
       "SYNPCC7942_RS00005    1.166321\n",
       "SYNPCC7942_RS00010    0.952160\n",
       "SYNPCC7942_RS00015    1.134704\n",
       "SYNPCC7942_RS00020    1.027623\n",
       "SYNPCC7942_RS00025    1.096595\n",
       "                        ...   \n",
       "HTX97_RS00025         1.266990\n",
       "HTX97_RS00030         1.038095\n",
       "HTX97_RS00035         1.000000\n",
       "HTX97_RS00040         0.849624\n",
       "HTX97_RS00005         1.153846\n",
       "Name: Se_axen_d4_1, Length: 2761, dtype: float64"
      ]
     },
     "execution_count": 78,
     "metadata": {},
     "output_type": "execute_result"
    }
   ],
   "source": [
    "normalized_transcriptomics_df[rep]"
   ]
  },
  {
   "cell_type": "code",
   "execution_count": null,
   "metadata": {},
   "outputs": [],
   "source": []
  },
  {
   "cell_type": "code",
   "execution_count": null,
   "metadata": {},
   "outputs": [],
   "source": []
  },
  {
   "cell_type": "code",
   "execution_count": null,
   "metadata": {},
   "outputs": [],
   "source": []
  },
  {
   "cell_type": "code",
   "execution_count": null,
   "metadata": {},
   "outputs": [],
   "source": []
  }
 ],
 "metadata": {
  "kernelspec": {
   "display_name": "bmca",
   "language": "python",
   "name": "python3"
  },
  "language_info": {
   "codemirror_mode": {
    "name": "ipython",
    "version": 3
   },
   "file_extension": ".py",
   "mimetype": "text/x-python",
   "name": "python",
   "nbconvert_exporter": "python",
   "pygments_lexer": "ipython3",
   "version": "3.12.1"
  }
 },
 "nbformat": 4,
 "nbformat_minor": 2
}
