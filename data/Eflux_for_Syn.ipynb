{
 "cells": [
  {
   "cell_type": "markdown",
   "metadata": {},
   "source": [
    "# Eflux2 applied to *S. elongatus*"
   ]
  },
  {
   "cell_type": "code",
   "execution_count": 6,
   "metadata": {},
   "outputs": [],
   "source": [
    "import sys\n",
    "sys.path.append('../src')\n",
    "sys.path.append('/Users/mahs128/Repos/CONCERTO')\n",
    "from concerto.helpers.load_model_from_git import load_model_from_git\n",
    "from eflux2 import EFlux2\n",
    "import cobra\n",
    "import pandas as pd"
   ]
  },
  {
   "cell_type": "markdown",
   "metadata": {},
   "source": [
    "## Load in inputs"
   ]
  },
  {
   "cell_type": "markdown",
   "metadata": {},
   "source": [
    "### Read in transcriptomics data"
   ]
  },
  {
   "cell_type": "code",
   "execution_count": 14,
   "metadata": {},
   "outputs": [
    {
     "data": {
      "text/html": [
       "<div>\n",
       "<style scoped>\n",
       "    .dataframe tbody tr th:only-of-type {\n",
       "        vertical-align: middle;\n",
       "    }\n",
       "\n",
       "    .dataframe tbody tr th {\n",
       "        vertical-align: top;\n",
       "    }\n",
       "\n",
       "    .dataframe thead th {\n",
       "        text-align: right;\n",
       "    }\n",
       "</style>\n",
       "<table border=\"1\" class=\"dataframe\">\n",
       "  <thead>\n",
       "    <tr style=\"text-align: right;\">\n",
       "      <th></th>\n",
       "      <th>Se_axen_d4_1</th>\n",
       "      <th>Se_axen_d4_2</th>\n",
       "      <th>Se_axen_d4_3</th>\n",
       "      <th>Se_axen_d6_1</th>\n",
       "      <th>Se_axen_d6_2</th>\n",
       "      <th>Se_axen_d6_3</th>\n",
       "      <th>Se_axen_d8_1</th>\n",
       "      <th>Se_axen_d8_2</th>\n",
       "      <th>Se_axen_d8_3</th>\n",
       "    </tr>\n",
       "    <tr>\n",
       "      <th>Label</th>\n",
       "      <th></th>\n",
       "      <th></th>\n",
       "      <th></th>\n",
       "      <th></th>\n",
       "      <th></th>\n",
       "      <th></th>\n",
       "      <th></th>\n",
       "      <th></th>\n",
       "      <th></th>\n",
       "    </tr>\n",
       "  </thead>\n",
       "  <tbody>\n",
       "    <tr>\n",
       "      <th>SYNPCC7942_RS00005</th>\n",
       "      <td>16290</td>\n",
       "      <td>17761</td>\n",
       "      <td>15101</td>\n",
       "      <td>14567</td>\n",
       "      <td>13967</td>\n",
       "      <td>12653</td>\n",
       "      <td>7016</td>\n",
       "      <td>8855</td>\n",
       "      <td>8689</td>\n",
       "    </tr>\n",
       "    <tr>\n",
       "      <th>SYNPCC7942_RS00010</th>\n",
       "      <td>7185</td>\n",
       "      <td>7502</td>\n",
       "      <td>6565</td>\n",
       "      <td>10086</td>\n",
       "      <td>7546</td>\n",
       "      <td>7705</td>\n",
       "      <td>3747</td>\n",
       "      <td>6670</td>\n",
       "      <td>6960</td>\n",
       "    </tr>\n",
       "    <tr>\n",
       "      <th>SYNPCC7942_RS00015</th>\n",
       "      <td>24176</td>\n",
       "      <td>26304</td>\n",
       "      <td>22781</td>\n",
       "      <td>23926</td>\n",
       "      <td>21306</td>\n",
       "      <td>20412</td>\n",
       "      <td>13440</td>\n",
       "      <td>17253</td>\n",
       "      <td>17053</td>\n",
       "    </tr>\n",
       "    <tr>\n",
       "      <th>SYNPCC7942_RS00020</th>\n",
       "      <td>35119</td>\n",
       "      <td>35145</td>\n",
       "      <td>25895</td>\n",
       "      <td>37701</td>\n",
       "      <td>34175</td>\n",
       "      <td>30569</td>\n",
       "      <td>24835</td>\n",
       "      <td>39769</td>\n",
       "      <td>30280</td>\n",
       "    </tr>\n",
       "    <tr>\n",
       "      <th>SYNPCC7942_RS00025</th>\n",
       "      <td>6891</td>\n",
       "      <td>7803</td>\n",
       "      <td>6607</td>\n",
       "      <td>6347</td>\n",
       "      <td>6284</td>\n",
       "      <td>6844</td>\n",
       "      <td>3326</td>\n",
       "      <td>4146</td>\n",
       "      <td>3180</td>\n",
       "    </tr>\n",
       "  </tbody>\n",
       "</table>\n",
       "</div>"
      ],
      "text/plain": [
       "                    Se_axen_d4_1  Se_axen_d4_2  Se_axen_d4_3  Se_axen_d6_1  \\\n",
       "Label                                                                        \n",
       "SYNPCC7942_RS00005         16290         17761         15101         14567   \n",
       "SYNPCC7942_RS00010          7185          7502          6565         10086   \n",
       "SYNPCC7942_RS00015         24176         26304         22781         23926   \n",
       "SYNPCC7942_RS00020         35119         35145         25895         37701   \n",
       "SYNPCC7942_RS00025          6891          7803          6607          6347   \n",
       "\n",
       "                    Se_axen_d6_2  Se_axen_d6_3  Se_axen_d8_1  Se_axen_d8_2  \\\n",
       "Label                                                                        \n",
       "SYNPCC7942_RS00005         13967         12653          7016          8855   \n",
       "SYNPCC7942_RS00010          7546          7705          3747          6670   \n",
       "SYNPCC7942_RS00015         21306         20412         13440         17253   \n",
       "SYNPCC7942_RS00020         34175         30569         24835         39769   \n",
       "SYNPCC7942_RS00025          6284          6844          3326          4146   \n",
       "\n",
       "                    Se_axen_d8_3  \n",
       "Label                             \n",
       "SYNPCC7942_RS00005          8689  \n",
       "SYNPCC7942_RS00010          6960  \n",
       "SYNPCC7942_RS00015         17053  \n",
       "SYNPCC7942_RS00020         30280  \n",
       "SYNPCC7942_RS00025          3180  "
      ]
     },
     "execution_count": 14,
     "metadata": {},
     "output_type": "execute_result"
    }
   ],
   "source": [
    "transcriptomics_fname = \"processed_data/cleaned_transcriptomics.csv\"\n",
    "transcriptomics_df = pd.read_csv(transcriptomics_fname, index_col=\"Label\")\n",
    "transcriptomics_df.head()"
   ]
  },
  {
   "cell_type": "markdown",
   "metadata": {},
   "source": [
    "### Load SBML model"
   ]
  },
  {
   "cell_type": "code",
   "execution_count": 23,
   "metadata": {},
   "outputs": [],
   "source": [
    "syn_model = load_model_from_git('Synechococcus')"
   ]
  },
  {
   "cell_type": "markdown",
   "metadata": {},
   "source": [
    "### Load rates"
   ]
  },
  {
   "cell_type": "code",
   "execution_count": 9,
   "metadata": {},
   "outputs": [],
   "source": [
    "### TODO: MISSING RATES FOR SYN MODEL ###"
   ]
  },
  {
   "cell_type": "markdown",
   "metadata": {},
   "source": [
    "## Normalize relevant data with respect to reference strain/line"
   ]
  },
  {
   "cell_type": "markdown",
   "metadata": {},
   "source": [
    "### Identify reference strain/line"
   ]
  },
  {
   "cell_type": "code",
   "execution_count": 21,
   "metadata": {},
   "outputs": [],
   "source": [
    "ref_day_rep = transcriptomics_df.columns[4] # 'Se_axen_d6_2'"
   ]
  },
  {
   "cell_type": "markdown",
   "metadata": {},
   "source": [
    "### Normalize transcriptomics data"
   ]
  },
  {
   "cell_type": "code",
   "execution_count": 22,
   "metadata": {},
   "outputs": [
    {
     "data": {
      "text/html": [
       "<div>\n",
       "<style scoped>\n",
       "    .dataframe tbody tr th:only-of-type {\n",
       "        vertical-align: middle;\n",
       "    }\n",
       "\n",
       "    .dataframe tbody tr th {\n",
       "        vertical-align: top;\n",
       "    }\n",
       "\n",
       "    .dataframe thead th {\n",
       "        text-align: right;\n",
       "    }\n",
       "</style>\n",
       "<table border=\"1\" class=\"dataframe\">\n",
       "  <thead>\n",
       "    <tr style=\"text-align: right;\">\n",
       "      <th></th>\n",
       "      <th>Se_axen_d4_1</th>\n",
       "      <th>Se_axen_d4_2</th>\n",
       "      <th>Se_axen_d4_3</th>\n",
       "      <th>Se_axen_d6_1</th>\n",
       "      <th>Se_axen_d6_2</th>\n",
       "      <th>Se_axen_d6_3</th>\n",
       "      <th>Se_axen_d8_1</th>\n",
       "      <th>Se_axen_d8_2</th>\n",
       "      <th>Se_axen_d8_3</th>\n",
       "    </tr>\n",
       "    <tr>\n",
       "      <th>Label</th>\n",
       "      <th></th>\n",
       "      <th></th>\n",
       "      <th></th>\n",
       "      <th></th>\n",
       "      <th></th>\n",
       "      <th></th>\n",
       "      <th></th>\n",
       "      <th></th>\n",
       "      <th></th>\n",
       "    </tr>\n",
       "  </thead>\n",
       "  <tbody>\n",
       "    <tr>\n",
       "      <th>SYNPCC7942_RS00005</th>\n",
       "      <td>1.166321</td>\n",
       "      <td>1.271640</td>\n",
       "      <td>1.081191</td>\n",
       "      <td>1.042958</td>\n",
       "      <td>1.0</td>\n",
       "      <td>0.905921</td>\n",
       "      <td>0.502327</td>\n",
       "      <td>0.633994</td>\n",
       "      <td>0.622109</td>\n",
       "    </tr>\n",
       "    <tr>\n",
       "      <th>SYNPCC7942_RS00010</th>\n",
       "      <td>0.952160</td>\n",
       "      <td>0.994169</td>\n",
       "      <td>0.869997</td>\n",
       "      <td>1.336602</td>\n",
       "      <td>1.0</td>\n",
       "      <td>1.021071</td>\n",
       "      <td>0.496554</td>\n",
       "      <td>0.883912</td>\n",
       "      <td>0.922343</td>\n",
       "    </tr>\n",
       "    <tr>\n",
       "      <th>SYNPCC7942_RS00015</th>\n",
       "      <td>1.134704</td>\n",
       "      <td>1.234582</td>\n",
       "      <td>1.069229</td>\n",
       "      <td>1.122970</td>\n",
       "      <td>1.0</td>\n",
       "      <td>0.958040</td>\n",
       "      <td>0.630808</td>\n",
       "      <td>0.809772</td>\n",
       "      <td>0.800385</td>\n",
       "    </tr>\n",
       "    <tr>\n",
       "      <th>SYNPCC7942_RS00020</th>\n",
       "      <td>1.027623</td>\n",
       "      <td>1.028383</td>\n",
       "      <td>0.757718</td>\n",
       "      <td>1.103175</td>\n",
       "      <td>1.0</td>\n",
       "      <td>0.894484</td>\n",
       "      <td>0.726701</td>\n",
       "      <td>1.163687</td>\n",
       "      <td>0.886028</td>\n",
       "    </tr>\n",
       "    <tr>\n",
       "      <th>SYNPCC7942_RS00025</th>\n",
       "      <td>1.096595</td>\n",
       "      <td>1.241725</td>\n",
       "      <td>1.051400</td>\n",
       "      <td>1.010025</td>\n",
       "      <td>1.0</td>\n",
       "      <td>1.089115</td>\n",
       "      <td>0.529281</td>\n",
       "      <td>0.659771</td>\n",
       "      <td>0.506047</td>\n",
       "    </tr>\n",
       "  </tbody>\n",
       "</table>\n",
       "</div>"
      ],
      "text/plain": [
       "                    Se_axen_d4_1  Se_axen_d4_2  Se_axen_d4_3  Se_axen_d6_1  \\\n",
       "Label                                                                        \n",
       "SYNPCC7942_RS00005      1.166321      1.271640      1.081191      1.042958   \n",
       "SYNPCC7942_RS00010      0.952160      0.994169      0.869997      1.336602   \n",
       "SYNPCC7942_RS00015      1.134704      1.234582      1.069229      1.122970   \n",
       "SYNPCC7942_RS00020      1.027623      1.028383      0.757718      1.103175   \n",
       "SYNPCC7942_RS00025      1.096595      1.241725      1.051400      1.010025   \n",
       "\n",
       "                    Se_axen_d6_2  Se_axen_d6_3  Se_axen_d8_1  Se_axen_d8_2  \\\n",
       "Label                                                                        \n",
       "SYNPCC7942_RS00005           1.0      0.905921      0.502327      0.633994   \n",
       "SYNPCC7942_RS00010           1.0      1.021071      0.496554      0.883912   \n",
       "SYNPCC7942_RS00015           1.0      0.958040      0.630808      0.809772   \n",
       "SYNPCC7942_RS00020           1.0      0.894484      0.726701      1.163687   \n",
       "SYNPCC7942_RS00025           1.0      1.089115      0.529281      0.659771   \n",
       "\n",
       "                    Se_axen_d8_3  \n",
       "Label                             \n",
       "SYNPCC7942_RS00005      0.622109  \n",
       "SYNPCC7942_RS00010      0.922343  \n",
       "SYNPCC7942_RS00015      0.800385  \n",
       "SYNPCC7942_RS00020      0.886028  \n",
       "SYNPCC7942_RS00025      0.506047  "
      ]
     },
     "execution_count": 22,
     "metadata": {},
     "output_type": "execute_result"
    }
   ],
   "source": [
    "normalized_transcriptomics_df = transcriptomics_df.div(transcriptomics_df[ref_day_rep], axis=0)\n",
    "normalized_transcriptomics_df.head()"
   ]
  },
  {
   "cell_type": "code",
   "execution_count": 18,
   "metadata": {},
   "outputs": [],
   "source": [
    "### TODO: Normalize rates ?????"
   ]
  },
  {
   "cell_type": "code",
   "execution_count": null,
   "metadata": {},
   "outputs": [],
   "source": []
  },
  {
   "cell_type": "markdown",
   "metadata": {},
   "source": [
    "## Calculate fluxes"
   ]
  },
  {
   "cell_type": "markdown",
   "metadata": {},
   "source": [
    "### Explore CO2 exchange and transport from external compartment --> periplasm --> cytoplasm\n"
   ]
  },
  {
   "cell_type": "code",
   "execution_count": 39,
   "metadata": {},
   "outputs": [
    {
     "name": "stdout",
     "output_type": "stream",
     "text": [
      "----\n",
      "co2_e reactions\n",
      "----\n",
      "EX_co2_e\n",
      "CO2tex\n",
      " \n",
      "----\n",
      "co2_p reactions\n",
      "----\n",
      "CO2tex\n",
      "CO2tpp\n"
     ]
    }
   ],
   "source": [
    "print(\"----\")\n",
    "print(\"co2_e reactions\")\n",
    "print(\"----\")\n",
    "for r in syn_model.metabolites.co2_e.reactions:\n",
    "    print(r.id)\n",
    "\n",
    "print(\" \")\n",
    "print(\"----\")\n",
    "print(\"co2_p reactions\")\n",
    "print(\"----\")\n",
    "for r in syn_model.metabolites.co2_p.reactions:\n",
    "    print(r.id)\n",
    "\n"
   ]
  },
  {
   "cell_type": "code",
   "execution_count": null,
   "metadata": {},
   "outputs": [
    {
     "data": {
      "text/html": [
       "\n",
       "        <table>\n",
       "            <tr>\n",
       "                <td><strong>Reaction identifier</strong></td><td>EX_co2_e</td>\n",
       "            </tr><tr>\n",
       "                <td><strong>Name</strong></td><td>CO2 exchange</td>\n",
       "            </tr><tr>\n",
       "                <td><strong>Memory address</strong></td>\n",
       "                <td>0x2a2087880</td>\n",
       "            </tr><tr>\n",
       "                <td><strong>Stoichiometry</strong></td>\n",
       "                <td>\n",
       "                    <p style='text-align:right'>co2_e <=></p>\n",
       "                    <p style='text-align:right'>CO2 CO2 <=></p>\n",
       "                </td>\n",
       "            </tr><tr>\n",
       "                <td><strong>GPR</strong></td><td></td>\n",
       "            </tr><tr>\n",
       "                <td><strong>Lower bound</strong></td><td>-1.99</td>\n",
       "            </tr><tr>\n",
       "                <td><strong>Upper bound</strong></td><td>1000.0</td>\n",
       "            </tr>\n",
       "        </table>\n",
       "        "
      ],
      "text/plain": [
       "<Reaction EX_co2_e at 0x2a2087880>"
      ]
     },
     "metadata": {},
     "output_type": "display_data"
    },
    {
     "data": {
      "text/html": [
       "\n",
       "        <table>\n",
       "            <tr>\n",
       "                <td><strong>Reaction identifier</strong></td><td>CO2tex</td>\n",
       "            </tr><tr>\n",
       "                <td><strong>Name</strong></td><td>CO2 transport via diffusion (extracellular to periplasm)</td>\n",
       "            </tr><tr>\n",
       "                <td><strong>Memory address</strong></td>\n",
       "                <td>0x2a20598b0</td>\n",
       "            </tr><tr>\n",
       "                <td><strong>Stoichiometry</strong></td>\n",
       "                <td>\n",
       "                    <p style='text-align:right'>co2_e <=> co2_p</p>\n",
       "                    <p style='text-align:right'>CO2 CO2 <=> CO2 CO2</p>\n",
       "                </td>\n",
       "            </tr><tr>\n",
       "                <td><strong>GPR</strong></td><td></td>\n",
       "            </tr><tr>\n",
       "                <td><strong>Lower bound</strong></td><td>-1000.0</td>\n",
       "            </tr><tr>\n",
       "                <td><strong>Upper bound</strong></td><td>1000.0</td>\n",
       "            </tr>\n",
       "        </table>\n",
       "        "
      ],
      "text/plain": [
       "<Reaction CO2tex at 0x2a20598b0>"
      ]
     },
     "metadata": {},
     "output_type": "display_data"
    },
    {
     "data": {
      "text/html": [
       "\n",
       "        <table>\n",
       "            <tr>\n",
       "                <td><strong>Reaction identifier</strong></td><td>CO2tpp</td>\n",
       "            </tr><tr>\n",
       "                <td><strong>Name</strong></td><td>CO2 transporter via diffusion (periplasm)</td>\n",
       "            </tr><tr>\n",
       "                <td><strong>Memory address</strong></td>\n",
       "                <td>0x17f709c70</td>\n",
       "            </tr><tr>\n",
       "                <td><strong>Stoichiometry</strong></td>\n",
       "                <td>\n",
       "                    <p style='text-align:right'>co2_p <=> co2_c</p>\n",
       "                    <p style='text-align:right'>CO2 CO2 <=> CO2 CO2</p>\n",
       "                </td>\n",
       "            </tr><tr>\n",
       "                <td><strong>GPR</strong></td><td></td>\n",
       "            </tr><tr>\n",
       "                <td><strong>Lower bound</strong></td><td>-1000.0</td>\n",
       "            </tr><tr>\n",
       "                <td><strong>Upper bound</strong></td><td>1000.0</td>\n",
       "            </tr>\n",
       "        </table>\n",
       "        "
      ],
      "text/plain": [
       "<Reaction CO2tpp at 0x17f709c70>"
      ]
     },
     "metadata": {},
     "output_type": "display_data"
    }
   ],
   "source": [
    "display(syn_model.reactions.get_by_id('EX_co2_e'))\n",
    "display(syn_model.reactions.get_by_id('CO2tex'))\n",
    "display(syn_model.reactions.get_by_id('CO2tpp')) "
   ]
  },
  {
   "cell_type": "markdown",
   "metadata": {},
   "source": [
    "CO2tex and CO2tpp are possible candidates for CO2 uptake reaction targets.\n",
    "However they both occur through diffusion, which isn't necessarily attributed to a gene/regulator.\n",
    "Therefore, need to take a closer look at cytoplasmic reactions, co2_c"
   ]
  },
  {
   "cell_type": "markdown",
   "metadata": {},
   "source": [
    "### Explore CO2 internal reactions taking place in the cytoplasm"
   ]
  },
  {
   "cell_type": "code",
   "execution_count": 47,
   "metadata": {},
   "outputs": [
    {
     "name": "stdout",
     "output_type": "stream",
     "text": [
      "----\n",
      "co2_c reactions\n",
      "----\n",
      "['h_c + thrp_c ', ' applp_c + co2_c']\n",
      "['h_c + malACP_c + palmACP_c ', ' 3ooctdACP_c + ACP_c + co2_c']\n",
      "['3nphb_c + amet_c + h2o_c + nad_c ', ' 2m6sbenzq_c + ahcys_c + co2_c + h_c + nadh_c']\n",
      "['2.0 for_c + 2.0 h_c + o2_c ', ' 2.0 co2_c + 2.0 h2o_c']\n",
      "['Ncbmpts_c + h2o_c + 2.0 h_c ', ' co2_c + nh4_c + ptrc_c']\n",
      "['2cpr5p_c + h_c ', ' 3ig3p_c + co2_c + h2o_c']\n",
      "['2.0 h_c + prpp_c + quln_c ', ' co2_c + nicrnt_c + ppi_c']\n",
      "['h_c + orn_c ', ' co2_c + ptrc_c']\n",
      "['arg__L_c + h_c ', ' agm_c + co2_c']\n",
      "['gmeACP_c + h_c + malACP_c ', ' ACP_c + co2_c + opmeACP_c']\n",
      "['dcaACP_c + h_c + malACP_c ', ' 3oddecACP_c + ACP_c + co2_c']\n",
      "['co2_c + 2.0 fdxrd_c + h2o_c + 4.0 h_c + pq_um ', ' 2.0 fdxox_c + 3.0 h_u + hco3_c + pqh2_um']\n",
      "['akg_c + o2_c + pro__L_c ', ' 4hpro__LT_c + co2_c + succ_c']\n",
      "['2a3pp_c + h_c ', ' 3a2oxpp_c + co2_c']\n",
      "['h_c + pyr_c + thmpp_c ', ' 2ahethmpp_c + co2_c']\n",
      "['6pgc_c + nadp_c ', ' co2_c + nadph_c + ru5p__D_c']\n",
      "['2mahmp_c + cthzp_c + 2.0 h_c ', ' co2_c + ppi_c + thmmp_c']\n",
      "['butACP_c + h_c + malACP_c ', ' 3ohexACP_c + ACP_c + co2_c']\n",
      "['coa_c + nad_c + pyr_c ', ' accoa_c + co2_c + nadh_c']\n",
      "['asp__L_c + h_c ', ' ala_B_c + co2_c']\n",
      "['co2_c + 2.0 fdxrd_c + h2o_c + 4.0 h_c + pq_um ', ' 2.0 fdxox_c + 3.0 h_u + hco3_c + pqh2_um']\n",
      "['26dap__M_c + h_c ', ' co2_c + lys__L_c']\n",
      "['accoa_c + h_c + malACP_c ', ' actACP_c + co2_c + coa_c']\n",
      "['nad_c + pphn_c ', ' 34hpp_c + co2_c + nadh_c']\n",
      "['h_c + malACP_c + malcoame_c ', ' co2_c + coa_c + ogmeACP_c']\n",
      "['akg_c + o2_c + pro__L_c ', ' 4hpro_LT_c + co2_c + succ_c']\n",
      "['ddcaACP_c + h_c + malACP_c ', ' 3omrsACP_c + ACP_c + co2_c']\n",
      "['4ppcys_c + h_c ', ' co2_c + pan4p_c']\n",
      "['dhna_c + nadp_c + phdp_c ', ' co2_c + dmtphllqne_c + nadph_c + ppi_c']\n",
      "['g3p_c + h_c + pyr_c ', ' co2_c + dxyl5p_c']\n",
      "['nad_c + r3mmal_c ', ' 2obut_c + co2_c + nadh_c']\n",
      "['gly_c + nad_c + thf_c ', ' co2_c + mlthf_c + nadh_c + nh4_c']\n",
      "['cbm_c + 2.0 h_c ', ' co2_c + nh4_c']\n",
      "['co2_p <=> co2_c']\n",
      "['2.0 amet_c + pre6b_c ', ' 2.0 ahcys_c + co2_c + 3.0 h_c + pre8_c']\n",
      "['h_c + udpglcur_c ', ' co2_c + udpxyl_c']\n",
      "['icit_c + nadp_c ', ' akg_c + co2_c + nadph_c']\n",
      "['co2_c + 2.0 fdxrd_c + h2o_c + 4.0 h_c + pq_um ', ' 2.0 fdxox_c + 3.0 h_u + hco3_c + pqh2_um']\n",
      "['h_c + pphn_c ', ' co2_c + h2o_c + phpyr_c']\n",
      "['ala__L_c + pimACP_c <=> 8aonn_c + ACP_c + co2_c']\n",
      "['3c4mop_c + h_c ', ' 4mop_c + co2_c']\n",
      "['h_c + malACP_c + myrsACP_c ', ' 3opalmACP_c + ACP_c + co2_c']\n",
      "['2.0 amet_c + pre6b_c ', ' 2.0 ahcys_c + co2_c + 3.0 h_c + pre8_c']\n",
      "['amet_c + h_c ', ' ametam_c + co2_c']\n",
      "['h_c + malACP_c + ocACP_c ', ' 3odecACP_c + ACP_c + co2_c']\n",
      "['acACP_c + h_c + malACP_c ', ' ACP_c + actACP_c + co2_c']\n",
      "['h_c + thrp_c ', ' applp_c + co2_c']\n",
      "['2mahmp_c + cthzp_c + 2.0 h_c ', ' co2_c + ppi_c + thmmp_c']\n",
      "['co2_c + 2.0 fdxrd_c + h2o_c + 4.0 h_c + pq_um ', ' 2.0 fdxox_c + 3.0 h_u + hco3_c + pqh2_um']\n",
      "['coa_c + fldox_c + h_c + pyr_c ', ' accoa_c + co2_c + fldrd_c']\n",
      "['h_c + orot5p_c ', ' co2_c + ump_c']\n",
      "['akg_c + h_c + ichor_c ', ' 2sephchc_c + co2_c']\n",
      "['2.0 amet_c + cpppg3_c ', ' 2.0 co2_c + 2.0 dad_5_c + 2.0 met__L_c + pppg9_c']\n",
      "['h_c + hexACP_c + malACP_c ', ' 3ooctACP_c + ACP_c + co2_c']\n",
      "['mal__L_c + nadp_c <=> co2_c + nadph_c + pyr_c']\n",
      "['cynt_c + h_c + hco3_c ', ' cbm_c + co2_c']\n",
      "['h_c + oxa_c ', ' co2_c + for_c']\n",
      "['cpppg3_c + 2.0 h_c + o2_c ', ' 2.0 co2_c + 2.0 h2o_c + pppg9_c']\n",
      "['cbmp_c + h2o_c + 2.0 h_c ', ' co2_c + nh4_c + ptrc_c']\n",
      "['atp_c + co2_c + dann_c ', ' adp_c + dtbt_c + 3.0 h_c + pi_c']\n",
      "['4.0 h_c + uppg3_c ', ' 4.0 co2_c + cpppg3_c']\n"
     ]
    }
   ],
   "source": [
    "print(\"----\")\n",
    "print(\"co2_c reactions\")\n",
    "print(\"----\")\n",
    "for r in syn_model.metabolites.co2_c.reactions:\n",
    "    print(r.reaction.split('-->'))"
   ]
  },
  {
   "cell_type": "code",
   "execution_count": 41,
   "metadata": {},
   "outputs": [
    {
     "name": "stdout",
     "output_type": "stream",
     "text": [
      "----\n",
      "sucr_c reactions\n",
      "----\n",
      "SUCRt2\n",
      "SPP\n",
      "SUCR\n",
      " \n",
      "----\n",
      "sucr_e reactions\n",
      "----\n",
      "SUCRt2\n",
      "EX_sucr_e\n"
     ]
    }
   ],
   "source": [
    "# Explore sucrose exchange and transport from cytoplasm --> external compartment\n",
    "print(\"----\")\n",
    "print(\"sucr_c reactions\")\n",
    "print(\"----\")\n",
    "for r in syn_model.metabolites.sucr_c.reactions:\n",
    "    print(r.id)\n",
    "\n",
    "print(\" \")\n",
    "print(\"----\")\n",
    "print(\"sucr_e reactions\")\n",
    "print(\"----\")\n",
    "for r in syn_model.metabolites.sucr_e.reactions:\n",
    "    print(r.id)"
   ]
  },
  {
   "cell_type": "code",
   "execution_count": 42,
   "metadata": {},
   "outputs": [
    {
     "data": {
      "text/html": [
       "\n",
       "        <table>\n",
       "            <tr>\n",
       "                <td><strong>Reaction identifier</strong></td><td>SUCR</td>\n",
       "            </tr><tr>\n",
       "                <td><strong>Name</strong></td><td>Sucrose hydrolyzing enzyme</td>\n",
       "            </tr><tr>\n",
       "                <td><strong>Memory address</strong></td>\n",
       "                <td>0x2a22c8df0</td>\n",
       "            </tr><tr>\n",
       "                <td><strong>Stoichiometry</strong></td>\n",
       "                <td>\n",
       "                    <p style='text-align:right'>h2o_c + sucr_c --> fru_c + glc__D_c</p>\n",
       "                    <p style='text-align:right'>H2O H2O + Sucrose C12H22O11 --> D-Fructose + D-Glucose</p>\n",
       "                </td>\n",
       "            </tr><tr>\n",
       "                <td><strong>GPR</strong></td><td>SYNPCC7942_RS02025</td>\n",
       "            </tr><tr>\n",
       "                <td><strong>Lower bound</strong></td><td>0.0</td>\n",
       "            </tr><tr>\n",
       "                <td><strong>Upper bound</strong></td><td>1000.0</td>\n",
       "            </tr>\n",
       "        </table>\n",
       "        "
      ],
      "text/plain": [
       "<Reaction SUCR at 0x2a22c8df0>"
      ]
     },
     "metadata": {},
     "output_type": "display_data"
    },
    {
     "data": {
      "text/html": [
       "\n",
       "        <table>\n",
       "            <tr>\n",
       "                <td><strong>Reaction identifier</strong></td><td>SUCRt2</td>\n",
       "            </tr><tr>\n",
       "                <td><strong>Name</strong></td><td>Sucrose transport in via proton symport</td>\n",
       "            </tr><tr>\n",
       "                <td><strong>Memory address</strong></td>\n",
       "                <td>0x2a2444970</td>\n",
       "            </tr><tr>\n",
       "                <td><strong>Stoichiometry</strong></td>\n",
       "                <td>\n",
       "                    <p style='text-align:right'>h_e + sucr_e <=> h_c + sucr_c</p>\n",
       "                    <p style='text-align:right'>H+ + Sucrose C12H22O11 <=> H+ + Sucrose C12H22O11</p>\n",
       "                </td>\n",
       "            </tr><tr>\n",
       "                <td><strong>GPR</strong></td><td>cscB</td>\n",
       "            </tr><tr>\n",
       "                <td><strong>Lower bound</strong></td><td>-1000.0</td>\n",
       "            </tr><tr>\n",
       "                <td><strong>Upper bound</strong></td><td>1000.0</td>\n",
       "            </tr>\n",
       "        </table>\n",
       "        "
      ],
      "text/plain": [
       "<Reaction SUCRt2 at 0x2a2444970>"
      ]
     },
     "metadata": {},
     "output_type": "display_data"
    },
    {
     "data": {
      "text/html": [
       "\n",
       "        <table>\n",
       "            <tr>\n",
       "                <td><strong>Reaction identifier</strong></td><td>SPP</td>\n",
       "            </tr><tr>\n",
       "                <td><strong>Name</strong></td><td>Sucrose-phosphate phosphatase</td>\n",
       "            </tr><tr>\n",
       "                <td><strong>Memory address</strong></td>\n",
       "                <td>0x2a21543d0</td>\n",
       "            </tr><tr>\n",
       "                <td><strong>Stoichiometry</strong></td>\n",
       "                <td>\n",
       "                    <p style='text-align:right'>h2o_c + suc6p_c --> pi_c + sucr_c</p>\n",
       "                    <p style='text-align:right'>H2O H2O + Sucrose 6-phosphate --> Phosphate + Sucrose C12H22O11</p>\n",
       "                </td>\n",
       "            </tr><tr>\n",
       "                <td><strong>GPR</strong></td><td>SYNPCC7942_RS04180</td>\n",
       "            </tr><tr>\n",
       "                <td><strong>Lower bound</strong></td><td>0.0</td>\n",
       "            </tr><tr>\n",
       "                <td><strong>Upper bound</strong></td><td>1000.0</td>\n",
       "            </tr>\n",
       "        </table>\n",
       "        "
      ],
      "text/plain": [
       "<Reaction SPP at 0x2a21543d0>"
      ]
     },
     "metadata": {},
     "output_type": "display_data"
    },
    {
     "data": {
      "text/html": [
       "\n",
       "        <table>\n",
       "            <tr>\n",
       "                <td><strong>Reaction identifier</strong></td><td>EX_sucr_e</td>\n",
       "            </tr><tr>\n",
       "                <td><strong>Name</strong></td><td>Sucrose C12H22O11 exchange</td>\n",
       "            </tr><tr>\n",
       "                <td><strong>Memory address</strong></td>\n",
       "                <td>0x2a2406970</td>\n",
       "            </tr><tr>\n",
       "                <td><strong>Stoichiometry</strong></td>\n",
       "                <td>\n",
       "                    <p style='text-align:right'>sucr_e --></p>\n",
       "                    <p style='text-align:right'>Sucrose C12H22O11 --></p>\n",
       "                </td>\n",
       "            </tr><tr>\n",
       "                <td><strong>GPR</strong></td><td></td>\n",
       "            </tr><tr>\n",
       "                <td><strong>Lower bound</strong></td><td>0.011</td>\n",
       "            </tr><tr>\n",
       "                <td><strong>Upper bound</strong></td><td>1000.0</td>\n",
       "            </tr>\n",
       "        </table>\n",
       "        "
      ],
      "text/plain": [
       "<Reaction EX_sucr_e at 0x2a2406970>"
      ]
     },
     "metadata": {},
     "output_type": "display_data"
    }
   ],
   "source": [
    "display(syn_model.reactions.get_by_id('SUCR'))\n",
    "display(syn_model.reactions.get_by_id('SUCRt2'))\n",
    "display(syn_model.reactions.get_by_id('SPP'))\n",
    "display(syn_model.reactions.get_by_id('EX_sucr_e')) # candidate for secretion target"
   ]
  },
  {
   "cell_type": "code",
   "execution_count": null,
   "metadata": {},
   "outputs": [],
   "source": [
    "intake_target_met = \"CO2\"/\"HCO3\" # carbon/carbon dioxide OR bicarbonate???\n",
    "intake_target_rxn = \"\"\n",
    "secrete_target_met = \"SUCR\" # sucrose\n",
    "secrete_target_rxn = 'EX_sucr_e'\n",
    "\n",
    "fluxes = {}\n",
    "for rep in normalized_transcriptomics_df.columns:\n",
    "    with syn_model:\n",
    "        # Collect rates for this replicate/strain/line\n",
    "        intake_target = syn_model.reactions.id....[co2_intake] # glucose_uptake = normalized_line_rates.loc[rep,'glucose_uptake_rates (mmol/gDCW * hr)' ]\n",
    "        secrete_target = syn_model.reactions.get_by_id(secrete_target_rxn) # secrete_3hp = normalized_line_rates.loc[rep,'3hp_secretion_rates (mmol/gDCW * hr)']\n",
    "        # Update model reaction bounds with experimentally calculated rate\n",
    "        if intake_target:\n",
    "            getattr(syn_model.reactions, intake_target_rxn).reaction.upper_bound = intake_target\n",
    "        if secrete_target:\n",
    "            getattr(syn_model.reactions, secrete_target_rxn).reaction.lower_bound = secrete_target\n",
    "        try:\n",
    "            print(rep)\n",
    "            fluxes[rep] = EFlux2(syn_model, normalized_transcriptomics_df[rep])\n",
    "        except TypeError:\n",
    "            print(f\"Replicate {rep} with uptake of {intake_target_met} and secretion of {secrete_target_met} is infeasible\")\n",
    "fluxes[rep]"
   ]
  },
  {
   "cell_type": "code",
   "execution_count": null,
   "metadata": {},
   "outputs": [],
   "source": []
  }
 ],
 "metadata": {
  "kernelspec": {
   "display_name": "bmca",
   "language": "python",
   "name": "python3"
  },
  "language_info": {
   "codemirror_mode": {
    "name": "ipython",
    "version": 3
   },
   "file_extension": ".py",
   "mimetype": "text/x-python",
   "name": "python",
   "nbconvert_exporter": "python",
   "pygments_lexer": "ipython3",
   "version": "3.8.12"
  }
 },
 "nbformat": 4,
 "nbformat_minor": 2
}
