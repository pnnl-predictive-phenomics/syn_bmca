{
 "cells": [
  {
   "cell_type": "markdown",
   "metadata": {},
   "source": [
    "# Eflux2 applied to *S. elongatus*"
   ]
  },
  {
   "cell_type": "code",
   "execution_count": 33,
   "metadata": {},
   "outputs": [],
   "source": [
    "import sys\n",
    "sys.path.append('../src')\n",
    "sys.path.append('/Users/mahs128/Repos/CONCERTO')\n",
    "from concerto.helpers.load_model_from_git import load_model_from_git\n",
    "from eflux2 import EFlux2\n",
    "import cobra\n",
    "import pandas as pd\n",
    "import numpy as np\n",
    "import gurobipy"
   ]
  },
  {
   "cell_type": "markdown",
   "metadata": {},
   "source": [
    "## Load in inputs"
   ]
  },
  {
   "cell_type": "markdown",
   "metadata": {},
   "source": [
    "### Read in transcriptomics data"
   ]
  },
  {
   "cell_type": "code",
   "execution_count": 30,
   "metadata": {},
   "outputs": [
    {
     "data": {
      "text/html": [
       "<div>\n",
       "<style scoped>\n",
       "    .dataframe tbody tr th:only-of-type {\n",
       "        vertical-align: middle;\n",
       "    }\n",
       "\n",
       "    .dataframe tbody tr th {\n",
       "        vertical-align: top;\n",
       "    }\n",
       "\n",
       "    .dataframe thead th {\n",
       "        text-align: right;\n",
       "    }\n",
       "</style>\n",
       "<table border=\"1\" class=\"dataframe\">\n",
       "  <thead>\n",
       "    <tr style=\"text-align: right;\">\n",
       "      <th></th>\n",
       "      <th>Se_axen_d4_1</th>\n",
       "      <th>Se_axen_d4_2</th>\n",
       "      <th>Se_axen_d4_3</th>\n",
       "      <th>Se_axen_d6_1</th>\n",
       "      <th>Se_axen_d6_2</th>\n",
       "      <th>Se_axen_d6_3</th>\n",
       "      <th>Se_axen_d8_1</th>\n",
       "      <th>Se_axen_d8_2</th>\n",
       "      <th>Se_axen_d8_3</th>\n",
       "    </tr>\n",
       "    <tr>\n",
       "      <th>Label</th>\n",
       "      <th></th>\n",
       "      <th></th>\n",
       "      <th></th>\n",
       "      <th></th>\n",
       "      <th></th>\n",
       "      <th></th>\n",
       "      <th></th>\n",
       "      <th></th>\n",
       "      <th></th>\n",
       "    </tr>\n",
       "  </thead>\n",
       "  <tbody>\n",
       "    <tr>\n",
       "      <th>SYNPCC7942_RS00005</th>\n",
       "      <td>16290</td>\n",
       "      <td>17761</td>\n",
       "      <td>15101</td>\n",
       "      <td>14567</td>\n",
       "      <td>13967</td>\n",
       "      <td>12653</td>\n",
       "      <td>7016</td>\n",
       "      <td>8855</td>\n",
       "      <td>8689</td>\n",
       "    </tr>\n",
       "    <tr>\n",
       "      <th>SYNPCC7942_RS00010</th>\n",
       "      <td>7185</td>\n",
       "      <td>7502</td>\n",
       "      <td>6565</td>\n",
       "      <td>10086</td>\n",
       "      <td>7546</td>\n",
       "      <td>7705</td>\n",
       "      <td>3747</td>\n",
       "      <td>6670</td>\n",
       "      <td>6960</td>\n",
       "    </tr>\n",
       "    <tr>\n",
       "      <th>SYNPCC7942_RS00015</th>\n",
       "      <td>24176</td>\n",
       "      <td>26304</td>\n",
       "      <td>22781</td>\n",
       "      <td>23926</td>\n",
       "      <td>21306</td>\n",
       "      <td>20412</td>\n",
       "      <td>13440</td>\n",
       "      <td>17253</td>\n",
       "      <td>17053</td>\n",
       "    </tr>\n",
       "    <tr>\n",
       "      <th>SYNPCC7942_RS00020</th>\n",
       "      <td>35119</td>\n",
       "      <td>35145</td>\n",
       "      <td>25895</td>\n",
       "      <td>37701</td>\n",
       "      <td>34175</td>\n",
       "      <td>30569</td>\n",
       "      <td>24835</td>\n",
       "      <td>39769</td>\n",
       "      <td>30280</td>\n",
       "    </tr>\n",
       "    <tr>\n",
       "      <th>SYNPCC7942_RS00025</th>\n",
       "      <td>6891</td>\n",
       "      <td>7803</td>\n",
       "      <td>6607</td>\n",
       "      <td>6347</td>\n",
       "      <td>6284</td>\n",
       "      <td>6844</td>\n",
       "      <td>3326</td>\n",
       "      <td>4146</td>\n",
       "      <td>3180</td>\n",
       "    </tr>\n",
       "  </tbody>\n",
       "</table>\n",
       "</div>"
      ],
      "text/plain": [
       "                    Se_axen_d4_1  Se_axen_d4_2  Se_axen_d4_3  Se_axen_d6_1  \\\n",
       "Label                                                                        \n",
       "SYNPCC7942_RS00005         16290         17761         15101         14567   \n",
       "SYNPCC7942_RS00010          7185          7502          6565         10086   \n",
       "SYNPCC7942_RS00015         24176         26304         22781         23926   \n",
       "SYNPCC7942_RS00020         35119         35145         25895         37701   \n",
       "SYNPCC7942_RS00025          6891          7803          6607          6347   \n",
       "\n",
       "                    Se_axen_d6_2  Se_axen_d6_3  Se_axen_d8_1  Se_axen_d8_2  \\\n",
       "Label                                                                        \n",
       "SYNPCC7942_RS00005         13967         12653          7016          8855   \n",
       "SYNPCC7942_RS00010          7546          7705          3747          6670   \n",
       "SYNPCC7942_RS00015         21306         20412         13440         17253   \n",
       "SYNPCC7942_RS00020         34175         30569         24835         39769   \n",
       "SYNPCC7942_RS00025          6284          6844          3326          4146   \n",
       "\n",
       "                    Se_axen_d8_3  \n",
       "Label                             \n",
       "SYNPCC7942_RS00005          8689  \n",
       "SYNPCC7942_RS00010          6960  \n",
       "SYNPCC7942_RS00015         17053  \n",
       "SYNPCC7942_RS00020         30280  \n",
       "SYNPCC7942_RS00025          3180  "
      ]
     },
     "execution_count": 30,
     "metadata": {},
     "output_type": "execute_result"
    }
   ],
   "source": [
    "transcriptomics_fname = \"processed_data/cleaned_transcriptomics.csv\"\n",
    "transcriptomics_df = pd.read_csv(transcriptomics_fname, index_col=\"Label\")\n",
    "transcriptomics_df.head()"
   ]
  },
  {
   "cell_type": "markdown",
   "metadata": {},
   "source": [
    "### Load SBML model"
   ]
  },
  {
   "cell_type": "code",
   "execution_count": 31,
   "metadata": {},
   "outputs": [],
   "source": [
    "# syn_model = load_model_from_git('Synechococcus')\n",
    "syn_model = cobra.io.read_sbml_model('../models/iJB785_w_sucrose_transport.xml')"
   ]
  },
  {
   "cell_type": "code",
   "execution_count": 32,
   "metadata": {},
   "outputs": [
    {
     "data": {
      "text/plain": [
       "cobra.core.model.Model"
      ]
     },
     "execution_count": 32,
     "metadata": {},
     "output_type": "execute_result"
    }
   ],
   "source": [
    "type(syn_model)"
   ]
  },
  {
   "cell_type": "markdown",
   "metadata": {},
   "source": [
    "### Load rates"
   ]
  },
  {
   "cell_type": "code",
   "execution_count": 5,
   "metadata": {},
   "outputs": [
    {
     "data": {
      "text/html": [
       "<div>\n",
       "<style scoped>\n",
       "    .dataframe tbody tr th:only-of-type {\n",
       "        vertical-align: middle;\n",
       "    }\n",
       "\n",
       "    .dataframe tbody tr th {\n",
       "        vertical-align: top;\n",
       "    }\n",
       "\n",
       "    .dataframe thead th {\n",
       "        text-align: right;\n",
       "    }\n",
       "</style>\n",
       "<table border=\"1\" class=\"dataframe\">\n",
       "  <thead>\n",
       "    <tr style=\"text-align: right;\">\n",
       "      <th></th>\n",
       "      <th>Se_axen_d4_1</th>\n",
       "      <th>Se_axen_d4_2</th>\n",
       "      <th>Se_axen_d4_3</th>\n",
       "      <th>Se_axen_d6_1</th>\n",
       "      <th>Se_axen_d6_2</th>\n",
       "      <th>Se_axen_d6_3</th>\n",
       "      <th>Se_axen_d8_1</th>\n",
       "      <th>Se_axen_d8_2</th>\n",
       "      <th>Se_axen_d8_3</th>\n",
       "    </tr>\n",
       "    <tr>\n",
       "      <th>Sample</th>\n",
       "      <th></th>\n",
       "      <th></th>\n",
       "      <th></th>\n",
       "      <th></th>\n",
       "      <th></th>\n",
       "      <th></th>\n",
       "      <th></th>\n",
       "      <th></th>\n",
       "      <th></th>\n",
       "    </tr>\n",
       "  </thead>\n",
       "  <tbody>\n",
       "    <tr>\n",
       "      <th>13ppd</th>\n",
       "      <td>-29836.5</td>\n",
       "      <td>-61719.5</td>\n",
       "      <td>12502.0</td>\n",
       "      <td>20379.0</td>\n",
       "      <td>31300.5</td>\n",
       "      <td>-10967.5</td>\n",
       "      <td>3339.0</td>\n",
       "      <td>-34320.5</td>\n",
       "      <td>12960.0</td>\n",
       "    </tr>\n",
       "    <tr>\n",
       "      <th>3hbz</th>\n",
       "      <td>-2978.0</td>\n",
       "      <td>-1145.0</td>\n",
       "      <td>-113.5</td>\n",
       "      <td>571.5</td>\n",
       "      <td>219.0</td>\n",
       "      <td>444.5</td>\n",
       "      <td>-437.0</td>\n",
       "      <td>-1084.5</td>\n",
       "      <td>-930.0</td>\n",
       "    </tr>\n",
       "    <tr>\n",
       "      <th>4hbz</th>\n",
       "      <td>-2529.5</td>\n",
       "      <td>1568.5</td>\n",
       "      <td>-1020.5</td>\n",
       "      <td>1889.5</td>\n",
       "      <td>-1916.0</td>\n",
       "      <td>810.0</td>\n",
       "      <td>-2246.5</td>\n",
       "      <td>818.0</td>\n",
       "      <td>1859.5</td>\n",
       "    </tr>\n",
       "    <tr>\n",
       "      <th>aso4</th>\n",
       "      <td>-4807.5</td>\n",
       "      <td>-3176.0</td>\n",
       "      <td>275.0</td>\n",
       "      <td>-795.0</td>\n",
       "      <td>-1199.0</td>\n",
       "      <td>-3490.0</td>\n",
       "      <td>1443.0</td>\n",
       "      <td>-2645.5</td>\n",
       "      <td>4379.5</td>\n",
       "    </tr>\n",
       "    <tr>\n",
       "      <th>bz</th>\n",
       "      <td>-83691.0</td>\n",
       "      <td>-34668.5</td>\n",
       "      <td>-18102.5</td>\n",
       "      <td>-13110.5</td>\n",
       "      <td>-25685.0</td>\n",
       "      <td>-52963.5</td>\n",
       "      <td>15482.5</td>\n",
       "      <td>-2626.0</td>\n",
       "      <td>21771.0</td>\n",
       "    </tr>\n",
       "  </tbody>\n",
       "</table>\n",
       "</div>"
      ],
      "text/plain": [
       "        Se_axen_d4_1  Se_axen_d4_2  Se_axen_d4_3  Se_axen_d6_1  Se_axen_d6_2  \\\n",
       "Sample                                                                         \n",
       "13ppd       -29836.5      -61719.5       12502.0       20379.0       31300.5   \n",
       "3hbz         -2978.0       -1145.0        -113.5         571.5         219.0   \n",
       "4hbz         -2529.5        1568.5       -1020.5        1889.5       -1916.0   \n",
       "aso4         -4807.5       -3176.0         275.0        -795.0       -1199.0   \n",
       "bz          -83691.0      -34668.5      -18102.5      -13110.5      -25685.0   \n",
       "\n",
       "        Se_axen_d6_3  Se_axen_d8_1  Se_axen_d8_2  Se_axen_d8_3  \n",
       "Sample                                                          \n",
       "13ppd       -10967.5        3339.0      -34320.5       12960.0  \n",
       "3hbz           444.5        -437.0       -1084.5        -930.0  \n",
       "4hbz           810.0       -2246.5         818.0        1859.5  \n",
       "aso4         -3490.0        1443.0       -2645.5        4379.5  \n",
       "bz          -52963.5       15482.5       -2626.0       21771.0  "
      ]
     },
     "execution_count": 5,
     "metadata": {},
     "output_type": "execute_result"
    }
   ],
   "source": [
    "### TODO: MISSING RATES FOR SYN MODEL ###\n",
    "rates_fname = \"processed_data/cleaned_metabolomic_abundance_rates.csv\"\n",
    "rates_df = pd.read_csv(rates_fname, index_col=\"Sample\")\n",
    "rates_df.head()"
   ]
  },
  {
   "cell_type": "markdown",
   "metadata": {},
   "source": [
    "## Normalize relevant data with respect to reference strain/line"
   ]
  },
  {
   "cell_type": "markdown",
   "metadata": {},
   "source": [
    "### Identify reference strain/line"
   ]
  },
  {
   "cell_type": "code",
   "execution_count": 11,
   "metadata": {},
   "outputs": [
    {
     "data": {
      "text/plain": [
       "'Se_axen_d6_2'"
      ]
     },
     "execution_count": 11,
     "metadata": {},
     "output_type": "execute_result"
    }
   ],
   "source": [
    "ref_rep = transcriptomics_df.columns[4] # 'Se_axen_d6_2'\n",
    "ref_rep"
   ]
  },
  {
   "cell_type": "markdown",
   "metadata": {},
   "source": [
    "### Normalize transcriptomics data"
   ]
  },
  {
   "cell_type": "code",
   "execution_count": 15,
   "metadata": {},
   "outputs": [
    {
     "data": {
      "text/html": [
       "<div>\n",
       "<style scoped>\n",
       "    .dataframe tbody tr th:only-of-type {\n",
       "        vertical-align: middle;\n",
       "    }\n",
       "\n",
       "    .dataframe tbody tr th {\n",
       "        vertical-align: top;\n",
       "    }\n",
       "\n",
       "    .dataframe thead th {\n",
       "        text-align: right;\n",
       "    }\n",
       "</style>\n",
       "<table border=\"1\" class=\"dataframe\">\n",
       "  <thead>\n",
       "    <tr style=\"text-align: right;\">\n",
       "      <th></th>\n",
       "      <th>Se_axen_d4_1</th>\n",
       "      <th>Se_axen_d4_2</th>\n",
       "      <th>Se_axen_d4_3</th>\n",
       "      <th>Se_axen_d6_1</th>\n",
       "      <th>Se_axen_d6_2</th>\n",
       "      <th>Se_axen_d6_3</th>\n",
       "      <th>Se_axen_d8_1</th>\n",
       "      <th>Se_axen_d8_2</th>\n",
       "      <th>Se_axen_d8_3</th>\n",
       "    </tr>\n",
       "    <tr>\n",
       "      <th>Label</th>\n",
       "      <th></th>\n",
       "      <th></th>\n",
       "      <th></th>\n",
       "      <th></th>\n",
       "      <th></th>\n",
       "      <th></th>\n",
       "      <th></th>\n",
       "      <th></th>\n",
       "      <th></th>\n",
       "    </tr>\n",
       "  </thead>\n",
       "  <tbody>\n",
       "    <tr>\n",
       "      <th>SYNPCC7942_RS00005</th>\n",
       "      <td>1.166321</td>\n",
       "      <td>1.271640</td>\n",
       "      <td>1.081191</td>\n",
       "      <td>1.042958</td>\n",
       "      <td>1.0</td>\n",
       "      <td>0.905921</td>\n",
       "      <td>0.502327</td>\n",
       "      <td>0.633994</td>\n",
       "      <td>0.622109</td>\n",
       "    </tr>\n",
       "    <tr>\n",
       "      <th>SYNPCC7942_RS00010</th>\n",
       "      <td>0.952160</td>\n",
       "      <td>0.994169</td>\n",
       "      <td>0.869997</td>\n",
       "      <td>1.336602</td>\n",
       "      <td>1.0</td>\n",
       "      <td>1.021071</td>\n",
       "      <td>0.496554</td>\n",
       "      <td>0.883912</td>\n",
       "      <td>0.922343</td>\n",
       "    </tr>\n",
       "    <tr>\n",
       "      <th>SYNPCC7942_RS00015</th>\n",
       "      <td>1.134704</td>\n",
       "      <td>1.234582</td>\n",
       "      <td>1.069229</td>\n",
       "      <td>1.122970</td>\n",
       "      <td>1.0</td>\n",
       "      <td>0.958040</td>\n",
       "      <td>0.630808</td>\n",
       "      <td>0.809772</td>\n",
       "      <td>0.800385</td>\n",
       "    </tr>\n",
       "    <tr>\n",
       "      <th>SYNPCC7942_RS00020</th>\n",
       "      <td>1.027623</td>\n",
       "      <td>1.028383</td>\n",
       "      <td>0.757718</td>\n",
       "      <td>1.103175</td>\n",
       "      <td>1.0</td>\n",
       "      <td>0.894484</td>\n",
       "      <td>0.726701</td>\n",
       "      <td>1.163687</td>\n",
       "      <td>0.886028</td>\n",
       "    </tr>\n",
       "    <tr>\n",
       "      <th>SYNPCC7942_RS00025</th>\n",
       "      <td>1.096595</td>\n",
       "      <td>1.241725</td>\n",
       "      <td>1.051400</td>\n",
       "      <td>1.010025</td>\n",
       "      <td>1.0</td>\n",
       "      <td>1.089115</td>\n",
       "      <td>0.529281</td>\n",
       "      <td>0.659771</td>\n",
       "      <td>0.506047</td>\n",
       "    </tr>\n",
       "  </tbody>\n",
       "</table>\n",
       "</div>"
      ],
      "text/plain": [
       "                    Se_axen_d4_1  Se_axen_d4_2  Se_axen_d4_3  Se_axen_d6_1  \\\n",
       "Label                                                                        \n",
       "SYNPCC7942_RS00005      1.166321      1.271640      1.081191      1.042958   \n",
       "SYNPCC7942_RS00010      0.952160      0.994169      0.869997      1.336602   \n",
       "SYNPCC7942_RS00015      1.134704      1.234582      1.069229      1.122970   \n",
       "SYNPCC7942_RS00020      1.027623      1.028383      0.757718      1.103175   \n",
       "SYNPCC7942_RS00025      1.096595      1.241725      1.051400      1.010025   \n",
       "\n",
       "                    Se_axen_d6_2  Se_axen_d6_3  Se_axen_d8_1  Se_axen_d8_2  \\\n",
       "Label                                                                        \n",
       "SYNPCC7942_RS00005           1.0      0.905921      0.502327      0.633994   \n",
       "SYNPCC7942_RS00010           1.0      1.021071      0.496554      0.883912   \n",
       "SYNPCC7942_RS00015           1.0      0.958040      0.630808      0.809772   \n",
       "SYNPCC7942_RS00020           1.0      0.894484      0.726701      1.163687   \n",
       "SYNPCC7942_RS00025           1.0      1.089115      0.529281      0.659771   \n",
       "\n",
       "                    Se_axen_d8_3  \n",
       "Label                             \n",
       "SYNPCC7942_RS00005      0.622109  \n",
       "SYNPCC7942_RS00010      0.922343  \n",
       "SYNPCC7942_RS00015      0.800385  \n",
       "SYNPCC7942_RS00020      0.886028  \n",
       "SYNPCC7942_RS00025      0.506047  "
      ]
     },
     "execution_count": 15,
     "metadata": {},
     "output_type": "execute_result"
    }
   ],
   "source": [
    "normalized_transcriptomics_df = transcriptomics_df.div(transcriptomics_df[ref_rep], axis=0)\n",
    "normalized_transcriptomics_df.head()"
   ]
  },
  {
   "cell_type": "markdown",
   "metadata": {},
   "source": [
    "### Normalize rates data"
   ]
  },
  {
   "cell_type": "code",
   "execution_count": 16,
   "metadata": {},
   "outputs": [
    {
     "data": {
      "text/html": [
       "<div>\n",
       "<style scoped>\n",
       "    .dataframe tbody tr th:only-of-type {\n",
       "        vertical-align: middle;\n",
       "    }\n",
       "\n",
       "    .dataframe tbody tr th {\n",
       "        vertical-align: top;\n",
       "    }\n",
       "\n",
       "    .dataframe thead th {\n",
       "        text-align: right;\n",
       "    }\n",
       "</style>\n",
       "<table border=\"1\" class=\"dataframe\">\n",
       "  <thead>\n",
       "    <tr style=\"text-align: right;\">\n",
       "      <th></th>\n",
       "      <th>Se_axen_d4_1</th>\n",
       "      <th>Se_axen_d4_2</th>\n",
       "      <th>Se_axen_d4_3</th>\n",
       "      <th>Se_axen_d6_1</th>\n",
       "      <th>Se_axen_d6_2</th>\n",
       "      <th>Se_axen_d6_3</th>\n",
       "      <th>Se_axen_d8_1</th>\n",
       "      <th>Se_axen_d8_2</th>\n",
       "      <th>Se_axen_d8_3</th>\n",
       "    </tr>\n",
       "    <tr>\n",
       "      <th>Sample</th>\n",
       "      <th></th>\n",
       "      <th></th>\n",
       "      <th></th>\n",
       "      <th></th>\n",
       "      <th></th>\n",
       "      <th></th>\n",
       "      <th></th>\n",
       "      <th></th>\n",
       "      <th></th>\n",
       "    </tr>\n",
       "  </thead>\n",
       "  <tbody>\n",
       "    <tr>\n",
       "      <th>13ppd</th>\n",
       "      <td>-0.953228</td>\n",
       "      <td>-1.971838</td>\n",
       "      <td>0.399419</td>\n",
       "      <td>0.651076</td>\n",
       "      <td>1.0</td>\n",
       "      <td>-0.350394</td>\n",
       "      <td>0.106676</td>\n",
       "      <td>-1.096484</td>\n",
       "      <td>0.414051</td>\n",
       "    </tr>\n",
       "    <tr>\n",
       "      <th>3hbz</th>\n",
       "      <td>-13.598174</td>\n",
       "      <td>-5.228311</td>\n",
       "      <td>-0.518265</td>\n",
       "      <td>2.609589</td>\n",
       "      <td>1.0</td>\n",
       "      <td>2.029680</td>\n",
       "      <td>-1.995434</td>\n",
       "      <td>-4.952055</td>\n",
       "      <td>-4.246575</td>\n",
       "    </tr>\n",
       "    <tr>\n",
       "      <th>4hbz</th>\n",
       "      <td>1.320198</td>\n",
       "      <td>-0.818633</td>\n",
       "      <td>0.532620</td>\n",
       "      <td>-0.986169</td>\n",
       "      <td>1.0</td>\n",
       "      <td>-0.422756</td>\n",
       "      <td>1.172495</td>\n",
       "      <td>-0.426931</td>\n",
       "      <td>-0.970511</td>\n",
       "    </tr>\n",
       "    <tr>\n",
       "      <th>aso4</th>\n",
       "      <td>4.009591</td>\n",
       "      <td>2.648874</td>\n",
       "      <td>-0.229358</td>\n",
       "      <td>0.663053</td>\n",
       "      <td>1.0</td>\n",
       "      <td>2.910759</td>\n",
       "      <td>-1.203503</td>\n",
       "      <td>2.206422</td>\n",
       "      <td>-3.652627</td>\n",
       "    </tr>\n",
       "    <tr>\n",
       "      <th>bz</th>\n",
       "      <td>3.258361</td>\n",
       "      <td>1.349757</td>\n",
       "      <td>0.704789</td>\n",
       "      <td>0.510434</td>\n",
       "      <td>1.0</td>\n",
       "      <td>2.062040</td>\n",
       "      <td>-0.602784</td>\n",
       "      <td>0.102239</td>\n",
       "      <td>-0.847615</td>\n",
       "    </tr>\n",
       "  </tbody>\n",
       "</table>\n",
       "</div>"
      ],
      "text/plain": [
       "        Se_axen_d4_1  Se_axen_d4_2  Se_axen_d4_3  Se_axen_d6_1  Se_axen_d6_2  \\\n",
       "Sample                                                                         \n",
       "13ppd      -0.953228     -1.971838      0.399419      0.651076           1.0   \n",
       "3hbz      -13.598174     -5.228311     -0.518265      2.609589           1.0   \n",
       "4hbz        1.320198     -0.818633      0.532620     -0.986169           1.0   \n",
       "aso4        4.009591      2.648874     -0.229358      0.663053           1.0   \n",
       "bz          3.258361      1.349757      0.704789      0.510434           1.0   \n",
       "\n",
       "        Se_axen_d6_3  Se_axen_d8_1  Se_axen_d8_2  Se_axen_d8_3  \n",
       "Sample                                                          \n",
       "13ppd      -0.350394      0.106676     -1.096484      0.414051  \n",
       "3hbz        2.029680     -1.995434     -4.952055     -4.246575  \n",
       "4hbz       -0.422756      1.172495     -0.426931     -0.970511  \n",
       "aso4        2.910759     -1.203503      2.206422     -3.652627  \n",
       "bz          2.062040     -0.602784      0.102239     -0.847615  "
      ]
     },
     "execution_count": 16,
     "metadata": {},
     "output_type": "execute_result"
    }
   ],
   "source": [
    "normalized_rates_df = rates_df.div(rates_df[ref_rep], axis=0)\n",
    "normalized_rates_df.head()"
   ]
  },
  {
   "cell_type": "markdown",
   "metadata": {},
   "source": [
    "## Calculate fluxes"
   ]
  },
  {
   "cell_type": "markdown",
   "metadata": {},
   "source": [
    "### Explore candidate uptake reactions\n",
    "\n",
    "#### Exploring Carbon/Biomass\n",
    "This would be a typical approach, but measurements for neither CO2 nor HCO3 are available in the metabolics data. Therefore, we can either (a) ignore uptake reactions and not use them to narrow the bounds for flux calculations, or (b) use growth rates instead\n"
   ]
  },
  {
   "cell_type": "code",
   "execution_count": 17,
   "metadata": {},
   "outputs": [],
   "source": [
    "# # Explore CO2 exchange and transport from external compartment --> periplasm --> cytoplasm\n",
    "\n",
    "# print(\"----\")\n",
    "# print(\"co2_e reactions\")\n",
    "# print(\"----\")\n",
    "# for r in syn_model.metabolites.co2_e.reactions:\n",
    "#     print(r.id)\n",
    "\n",
    "# print(\" \")\n",
    "# print(\"----\")\n",
    "# print(\"co2_p reactions\")\n",
    "# print(\"----\")\n",
    "# for r in syn_model.metabolites.co2_p.reactions:\n",
    "#     print(r.id)\n",
    "\n"
   ]
  },
  {
   "cell_type": "code",
   "execution_count": 18,
   "metadata": {},
   "outputs": [],
   "source": [
    "# display(syn_model.reactions.get_by_id('EX_co2_e'))\n",
    "# display(syn_model.reactions.get_by_id('CO2tex'))\n",
    "# display(syn_model.reactions.get_by_id('CO2tpp')) "
   ]
  },
  {
   "cell_type": "code",
   "execution_count": null,
   "metadata": {},
   "outputs": [],
   "source": []
  },
  {
   "cell_type": "markdown",
   "metadata": {},
   "source": [
    "### Explore candiate secretion reactions\n",
    "\n",
    "#### Exploring Sucrose output"
   ]
  },
  {
   "cell_type": "code",
   "execution_count": 19,
   "metadata": {},
   "outputs": [
    {
     "name": "stdout",
     "output_type": "stream",
     "text": [
      "----\n",
      "sucr_c reactions\n",
      "----\n",
      "SUCR\n",
      "SUCRt2\n",
      "SPP\n",
      " \n",
      "----\n",
      "sucr_e reactions\n",
      "----\n",
      "EX_sucr_e\n",
      "SUCRt2\n"
     ]
    }
   ],
   "source": [
    "# Explore sucrose exchange and transport from cytoplasm --> external compartment\n",
    "print(\"----\")\n",
    "print(\"sucr_c reactions\")\n",
    "print(\"----\")\n",
    "for r in syn_model.metabolites.sucr_c.reactions:\n",
    "    print(r.id)\n",
    "\n",
    "print(\" \")\n",
    "print(\"----\")\n",
    "print(\"sucr_e reactions\")\n",
    "print(\"----\")\n",
    "for r in syn_model.metabolites.sucr_e.reactions:\n",
    "    print(r.id)"
   ]
  },
  {
   "cell_type": "code",
   "execution_count": 20,
   "metadata": {},
   "outputs": [
    {
     "data": {
      "text/html": [
       "\n",
       "        <table>\n",
       "            <tr>\n",
       "                <td><strong>Reaction identifier</strong></td><td>SUCR</td>\n",
       "            </tr><tr>\n",
       "                <td><strong>Name</strong></td><td>Sucrose hydrolyzing enzyme</td>\n",
       "            </tr><tr>\n",
       "                <td><strong>Memory address</strong></td>\n",
       "                <td>0x2a598fe10</td>\n",
       "            </tr><tr>\n",
       "                <td><strong>Stoichiometry</strong></td>\n",
       "                <td>\n",
       "                    <p style='text-align:right'>h2o_c + sucr_c --> fru_c + glc__D_c</p>\n",
       "                    <p style='text-align:right'>H2O H2O + Sucrose C12H22O11 --> D-Fructose + D-Glucose</p>\n",
       "                </td>\n",
       "            </tr><tr>\n",
       "                <td><strong>GPR</strong></td><td>SYNPCC7942_RS02025</td>\n",
       "            </tr><tr>\n",
       "                <td><strong>Lower bound</strong></td><td>0.0</td>\n",
       "            </tr><tr>\n",
       "                <td><strong>Upper bound</strong></td><td>1000.0</td>\n",
       "            </tr>\n",
       "        </table>\n",
       "        "
      ],
      "text/plain": [
       "<Reaction SUCR at 0x2a598fe10>"
      ]
     },
     "metadata": {},
     "output_type": "display_data"
    },
    {
     "data": {
      "text/html": [
       "\n",
       "        <table>\n",
       "            <tr>\n",
       "                <td><strong>Reaction identifier</strong></td><td>SUCRt2</td>\n",
       "            </tr><tr>\n",
       "                <td><strong>Name</strong></td><td>Sucrose transport in via proton symport</td>\n",
       "            </tr><tr>\n",
       "                <td><strong>Memory address</strong></td>\n",
       "                <td>0x2a59e2350</td>\n",
       "            </tr><tr>\n",
       "                <td><strong>Stoichiometry</strong></td>\n",
       "                <td>\n",
       "                    <p style='text-align:right'>h_e + sucr_e <=> h_c + sucr_c</p>\n",
       "                    <p style='text-align:right'>H+ + Sucrose C12H22O11 <=> H+ + Sucrose C12H22O11</p>\n",
       "                </td>\n",
       "            </tr><tr>\n",
       "                <td><strong>GPR</strong></td><td>ATCC_700927</td>\n",
       "            </tr><tr>\n",
       "                <td><strong>Lower bound</strong></td><td>-1000.0</td>\n",
       "            </tr><tr>\n",
       "                <td><strong>Upper bound</strong></td><td>1000.0</td>\n",
       "            </tr>\n",
       "        </table>\n",
       "        "
      ],
      "text/plain": [
       "<Reaction SUCRt2 at 0x2a59e2350>"
      ]
     },
     "metadata": {},
     "output_type": "display_data"
    },
    {
     "data": {
      "text/html": [
       "\n",
       "        <table>\n",
       "            <tr>\n",
       "                <td><strong>Reaction identifier</strong></td><td>SPP</td>\n",
       "            </tr><tr>\n",
       "                <td><strong>Name</strong></td><td>Sucrose-phosphate phosphatase</td>\n",
       "            </tr><tr>\n",
       "                <td><strong>Memory address</strong></td>\n",
       "                <td>0x2a56f3d50</td>\n",
       "            </tr><tr>\n",
       "                <td><strong>Stoichiometry</strong></td>\n",
       "                <td>\n",
       "                    <p style='text-align:right'>h2o_c + suc6p_c --> pi_c + sucr_c</p>\n",
       "                    <p style='text-align:right'>H2O H2O + Sucrose 6-phosphate --> Phosphate + Sucrose C12H22O11</p>\n",
       "                </td>\n",
       "            </tr><tr>\n",
       "                <td><strong>GPR</strong></td><td>SYNPCC7942_RS04180</td>\n",
       "            </tr><tr>\n",
       "                <td><strong>Lower bound</strong></td><td>0.0</td>\n",
       "            </tr><tr>\n",
       "                <td><strong>Upper bound</strong></td><td>1000.0</td>\n",
       "            </tr>\n",
       "        </table>\n",
       "        "
      ],
      "text/plain": [
       "<Reaction SPP at 0x2a56f3d50>"
      ]
     },
     "metadata": {},
     "output_type": "display_data"
    },
    {
     "data": {
      "text/html": [
       "\n",
       "        <table>\n",
       "            <tr>\n",
       "                <td><strong>Reaction identifier</strong></td><td>EX_sucr_e</td>\n",
       "            </tr><tr>\n",
       "                <td><strong>Name</strong></td><td>Sucrose exchange</td>\n",
       "            </tr><tr>\n",
       "                <td><strong>Memory address</strong></td>\n",
       "                <td>0x2a59d7e10</td>\n",
       "            </tr><tr>\n",
       "                <td><strong>Stoichiometry</strong></td>\n",
       "                <td>\n",
       "                    <p style='text-align:right'>sucr_e --></p>\n",
       "                    <p style='text-align:right'>Sucrose C12H22O11 --></p>\n",
       "                </td>\n",
       "            </tr><tr>\n",
       "                <td><strong>GPR</strong></td><td></td>\n",
       "            </tr><tr>\n",
       "                <td><strong>Lower bound</strong></td><td>0.011</td>\n",
       "            </tr><tr>\n",
       "                <td><strong>Upper bound</strong></td><td>1000.0</td>\n",
       "            </tr>\n",
       "        </table>\n",
       "        "
      ],
      "text/plain": [
       "<Reaction EX_sucr_e at 0x2a59d7e10>"
      ]
     },
     "metadata": {},
     "output_type": "display_data"
    }
   ],
   "source": [
    "display(syn_model.reactions.get_by_id('SUCR'))\n",
    "display(syn_model.reactions.get_by_id('SUCRt2'))\n",
    "display(syn_model.reactions.get_by_id('SPP'))\n",
    "display(syn_model.reactions.get_by_id('EX_sucr_e')) # candidate for secretion target"
   ]
  },
  {
   "cell_type": "code",
   "execution_count": 21,
   "metadata": {},
   "outputs": [
    {
     "name": "stdout",
     "output_type": "stream",
     "text": [
      "Se_axen_d4_1\n",
      "Read LP format model from file /var/folders/k9/b8pxky2572sdtgy2vnxhcljw0000gn/T/tmpclgy9w5t.lp\n",
      "Reading time = 0.01 seconds\n",
      ": 769 rows, 1702 columns, 7652 nonzeros\n",
      "FBA status optimal\n",
      "FBA solution 0.01375879927219083\n",
      "EFlux2 status optimal\n",
      "EFlux2 solution 11.583086730834395\n",
      "Se_axen_d4_2\n",
      "Read LP format model from file /var/folders/k9/b8pxky2572sdtgy2vnxhcljw0000gn/T/tmps7hzhc1k.lp\n",
      "Reading time = 0.01 seconds\n",
      ": 769 rows, 1702 columns, 7652 nonzeros\n",
      "FBA status infeasible\n",
      "FBA solution None\n",
      "Replicate Se_axen_d4_2 with uptake of None and secretion of sucr is infeasible\n",
      "Se_axen_d4_3\n",
      "Read LP format model from file /var/folders/k9/b8pxky2572sdtgy2vnxhcljw0000gn/T/tmpipax7prv.lp\n",
      "Reading time = 0.01 seconds\n",
      ": 769 rows, 1702 columns, 7652 nonzeros\n"
     ]
    },
    {
     "name": "stderr",
     "output_type": "stream",
     "text": [
      "/Users/mahs128/.pyenv/versions/3.11.5/envs/bmca/lib/python3.11/site-packages/cobra/util/solver.py:554: UserWarning: Solver status is 'infeasible'.\n",
      "  warn(f\"Solver status is '{status}'.\", UserWarning)\n"
     ]
    },
    {
     "name": "stdout",
     "output_type": "stream",
     "text": [
      "FBA status infeasible\n",
      "FBA solution None\n",
      "Replicate Se_axen_d4_3 with uptake of None and secretion of sucr is infeasible\n",
      "Se_axen_d6_1\n",
      "Read LP format model from file /var/folders/k9/b8pxky2572sdtgy2vnxhcljw0000gn/T/tmpbdgy2d71.lp\n",
      "Reading time = 0.01 seconds\n",
      ": 769 rows, 1702 columns, 7652 nonzeros\n",
      "FBA status infeasible\n",
      "FBA solution None\n",
      "Replicate Se_axen_d6_1 with uptake of None and secretion of sucr is infeasible\n",
      "Se_axen_d6_2\n",
      "Read LP format model from file /var/folders/k9/b8pxky2572sdtgy2vnxhcljw0000gn/T/tmpmlk2e8vs.lp\n",
      "Reading time = 0.01 seconds\n",
      ": 769 rows, 1702 columns, 7652 nonzeros\n",
      "FBA status infeasible\n",
      "FBA solution None\n",
      "Replicate Se_axen_d6_2 with uptake of None and secretion of sucr is infeasible\n",
      "Se_axen_d6_3\n",
      "Read LP format model from file /var/folders/k9/b8pxky2572sdtgy2vnxhcljw0000gn/T/tmpzf1kdev0.lp\n",
      "Reading time = 0.01 seconds\n",
      ": 769 rows, 1702 columns, 7652 nonzeros\n",
      "FBA status optimal\n",
      "FBA solution 0.043907541747089524\n",
      "EFlux2 status optimal\n",
      "EFlux2 solution 60.56797457695283\n",
      "Se_axen_d8_1\n",
      "Read LP format model from file /var/folders/k9/b8pxky2572sdtgy2vnxhcljw0000gn/T/tmpi1ydfoum.lp\n",
      "Reading time = 0.01 seconds\n",
      ": 769 rows, 1702 columns, 7652 nonzeros\n",
      "FBA status infeasible\n",
      "FBA solution None\n",
      "Replicate Se_axen_d8_1 with uptake of None and secretion of sucr is infeasible\n",
      "Se_axen_d8_2\n",
      "Read LP format model from file /var/folders/k9/b8pxky2572sdtgy2vnxhcljw0000gn/T/tmpdd733_jx.lp\n",
      "Reading time = 0.01 seconds\n",
      ": 769 rows, 1702 columns, 7652 nonzeros\n",
      "FBA status optimal\n",
      "FBA solution 0.034514268076709646\n",
      "EFlux2 status optimal\n",
      "EFlux2 solution 41.327407427034295\n",
      "Se_axen_d8_3\n",
      "Read LP format model from file /var/folders/k9/b8pxky2572sdtgy2vnxhcljw0000gn/T/tmpcyif9an0.lp\n",
      "Reading time = 0.01 seconds\n",
      ": 769 rows, 1702 columns, 7652 nonzeros\n",
      "FBA status infeasible\n",
      "FBA solution None\n",
      "Replicate Se_axen_d8_3 with uptake of None and secretion of sucr is infeasible\n"
     ]
    },
    {
     "ename": "KeyError",
     "evalue": "'Se_axen_d8_3'",
     "output_type": "error",
     "traceback": [
      "\u001b[0;31m---------------------------------------------------------------------------\u001b[0m",
      "\u001b[0;31mKeyError\u001b[0m                                  Traceback (most recent call last)",
      "Cell \u001b[0;32mIn[21], line 37\u001b[0m\n\u001b[1;32m     35\u001b[0m         \u001b[38;5;28;01mexcept\u001b[39;00m \u001b[38;5;167;01mTypeError\u001b[39;00m:\n\u001b[1;32m     36\u001b[0m             \u001b[38;5;28mprint\u001b[39m(\u001b[38;5;124mf\u001b[39m\u001b[38;5;124m\"\u001b[39m\u001b[38;5;124mReplicate \u001b[39m\u001b[38;5;132;01m{\u001b[39;00mrep\u001b[38;5;132;01m}\u001b[39;00m\u001b[38;5;124m with uptake of \u001b[39m\u001b[38;5;132;01m{\u001b[39;00mintake_target_met\u001b[38;5;132;01m}\u001b[39;00m\u001b[38;5;124m and secretion of \u001b[39m\u001b[38;5;132;01m{\u001b[39;00msecrete_target_met\u001b[38;5;132;01m}\u001b[39;00m\u001b[38;5;124m is infeasible\u001b[39m\u001b[38;5;124m\"\u001b[39m)\n\u001b[0;32m---> 37\u001b[0m \u001b[43mfluxes\u001b[49m\u001b[43m[\u001b[49m\u001b[43mrep\u001b[49m\u001b[43m]\u001b[49m\n",
      "\u001b[0;31mKeyError\u001b[0m: 'Se_axen_d8_3'"
     ]
    }
   ],
   "source": [
    "# Identify candiates for target intake metabolite and corresponding reaction\n",
    "intake_target_met = None #\n",
    "# intake_target_rxn = \"\"\n",
    "\n",
    "# Identify candiates for target secretion metabolite and corresponding reaction\n",
    "secrete_target_met = \"sucr\" # BiGG ID for sucrose\n",
    "secrete_target_rxn = 'EX_sucr_e'\n",
    "\n",
    "# List of replicates/strains/lines included in data\n",
    "replicate_list = normalized_transcriptomics_df.columns\n",
    "\n",
    "# Use teh Gurobi solver in the model\n",
    "syn_model.solver = 'gurobi'\n",
    "\n",
    "# TODO: generalize this as a function with various options for intake candidate availability, or using growth rates instead\n",
    "\n",
    "fluxes = {}\n",
    "for rep in replicate_list:\n",
    "    with syn_model:\n",
    "        # Collect rates for this replicate/strain/line\n",
    "\n",
    "        # TODO: condition intake/secrete targets if a candidate is chosen\n",
    "        # intake_target = syn_model.reactions.id....[co2_intake] \n",
    "        secrete_target = normalized_rates_df.loc[secrete_target_met, rep]\n",
    "      #  syn_model.reactions.get_by_id(secrete_target_rxn) # secrete_3hp = normalized_line_rates.loc[rep,'3hp_secretion_rates (mmol/gDCW * hr)']\n",
    "       \n",
    "        # Update model reaction bounds with experimentally calculated rate\n",
    "        # if intake_target:\n",
    "        #     getattr(syn_model.reactions, intake_target_rxn).reaction.upper_bound = intake_target\n",
    "        if secrete_target:\n",
    "            getattr(syn_model.reactions, secrete_target_rxn).lower_bound = secrete_target\n",
    "        try:\n",
    "            print(rep)\n",
    "            fluxes[rep] = EFlux2(syn_model, normalized_transcriptomics_df[rep])\n",
    "        except TypeError:\n",
    "            print(f\"Replicate {rep} with uptake of {intake_target_met} and secretion of {secrete_target_met} is infeasible\")"
   ]
  },
  {
   "cell_type": "code",
   "execution_count": 22,
   "metadata": {},
   "outputs": [
    {
     "data": {
      "text/plain": [
       "{'Se_axen_d4_1': <Solution 11.583 at 0x2a757b5d0>,\n",
       " 'Se_axen_d6_3': <Solution 60.568 at 0x2a7587cd0>,\n",
       " 'Se_axen_d8_2': <Solution 41.327 at 0x2a9232890>}"
      ]
     },
     "execution_count": 22,
     "metadata": {},
     "output_type": "execute_result"
    }
   ],
   "source": [
    "fluxes"
   ]
  },
  {
   "cell_type": "code",
   "execution_count": 23,
   "metadata": {},
   "outputs": [
    {
     "data": {
      "text/html": [
       "<strong><em>Optimal</em> solution with objective value 41.327</strong><br><div>\n",
       "<style scoped>\n",
       "    .dataframe tbody tr th:only-of-type {\n",
       "        vertical-align: middle;\n",
       "    }\n",
       "\n",
       "    .dataframe tbody tr th {\n",
       "        vertical-align: top;\n",
       "    }\n",
       "\n",
       "    .dataframe thead th {\n",
       "        text-align: right;\n",
       "    }\n",
       "</style>\n",
       "<table border=\"1\" class=\"dataframe\">\n",
       "  <thead>\n",
       "    <tr style=\"text-align: right;\">\n",
       "      <th></th>\n",
       "      <th>fluxes</th>\n",
       "      <th>reduced_costs</th>\n",
       "    </tr>\n",
       "  </thead>\n",
       "  <tbody>\n",
       "    <tr>\n",
       "      <th>EX_gln__L_e</th>\n",
       "      <td>0.000000</td>\n",
       "      <td>2801.156582</td>\n",
       "    </tr>\n",
       "    <tr>\n",
       "      <th>EX_hco3_e</th>\n",
       "      <td>-0.233722</td>\n",
       "      <td>0.000000</td>\n",
       "    </tr>\n",
       "    <tr>\n",
       "      <th>EX_mn2_e</th>\n",
       "      <td>0.000000</td>\n",
       "      <td>0.000000</td>\n",
       "    </tr>\n",
       "    <tr>\n",
       "      <th>EX_arg__L_e</th>\n",
       "      <td>0.000000</td>\n",
       "      <td>6844.619332</td>\n",
       "    </tr>\n",
       "    <tr>\n",
       "      <th>ADPT</th>\n",
       "      <td>0.000007</td>\n",
       "      <td>0.000000</td>\n",
       "    </tr>\n",
       "    <tr>\n",
       "      <th>...</th>\n",
       "      <td>...</td>\n",
       "      <td>...</td>\n",
       "    </tr>\n",
       "    <tr>\n",
       "      <th>MDDEP3pp</th>\n",
       "      <td>0.000000</td>\n",
       "      <td>0.000000</td>\n",
       "    </tr>\n",
       "    <tr>\n",
       "      <th>MDDEP4pp</th>\n",
       "      <td>0.000000</td>\n",
       "      <td>0.000000</td>\n",
       "    </tr>\n",
       "    <tr>\n",
       "      <th>MNHNAtpp</th>\n",
       "      <td>0.099447</td>\n",
       "      <td>0.000000</td>\n",
       "    </tr>\n",
       "    <tr>\n",
       "      <th>EX_sucr_e</th>\n",
       "      <td>-0.378780</td>\n",
       "      <td>0.000000</td>\n",
       "    </tr>\n",
       "    <tr>\n",
       "      <th>SUCRt2</th>\n",
       "      <td>0.378780</td>\n",
       "      <td>0.000000</td>\n",
       "    </tr>\n",
       "  </tbody>\n",
       "</table>\n",
       "<p>851 rows × 2 columns</p>\n",
       "</div>"
      ],
      "text/plain": [
       "<Solution 41.327 at 0x2a9232890>"
      ]
     },
     "execution_count": 23,
     "metadata": {},
     "output_type": "execute_result"
    }
   ],
   "source": [
    "fluxes['Se_axen_d8_2']"
   ]
  },
  {
   "cell_type": "code",
   "execution_count": 28,
   "metadata": {},
   "outputs": [],
   "source": [
    "# Save fluxes to file for the following format:\n",
    "# row names = metabolites\n",
    "# column names = replicates\n",
    "# Entries \"fluxes\" column values from computed fluxes variable above\n",
    "flux_df = pd.DataFrame({\n",
    "    rep: fluxes[rep].fluxes for rep in fluxes\n",
    "})\n",
    "flux_df.to_csv(\"processed_data/Eflux_for_Syn.csv\")"
   ]
  },
  {
   "cell_type": "code",
   "execution_count": null,
   "metadata": {},
   "outputs": [],
   "source": []
  }
 ],
 "metadata": {
  "kernelspec": {
   "display_name": "bmca",
   "language": "python",
   "name": "python3"
  },
  "language_info": {
   "codemirror_mode": {
    "name": "ipython",
    "version": 3
   },
   "file_extension": ".py",
   "mimetype": "text/x-python",
   "name": "python",
   "nbconvert_exporter": "python",
   "pygments_lexer": "ipython3",
   "version": "3.11.5"
  }
 },
 "nbformat": 4,
 "nbformat_minor": 2
}
